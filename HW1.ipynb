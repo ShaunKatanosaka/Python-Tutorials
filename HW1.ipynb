{
 "cells": [
  {
   "cell_type": "raw",
   "id": "89981f65-0554-4be9-9330-05eeeb4c991b",
   "metadata": {},
   "source": [
    "---\n",
    "title: \"HW1\"\n",
    "author: \"Shaun Katanosaka\"\n",
    "date: \"2023-10-23\"\n",
    "categories: [week 3]\n",
    "---"
   ]
  },
  {
   "cell_type": "code",
   "execution_count": 1,
   "id": "cc906186-33fa-412d-aff4-91fbe17d5236",
   "metadata": {
    "tags": []
   },
   "outputs": [],
   "source": [
    "import plotly.io as pio\n",
    "pio.renderers.default=\"iframe\""
   ]
  },
  {
   "cell_type": "markdown",
   "id": "53959daf-23f6-4524-9eab-57f878cb15af",
   "metadata": {
    "tags": []
   },
   "source": [
    "# Data Visualization using SQL"
   ]
  },
  {
   "cell_type": "markdown",
   "id": "8bbb4a47-b9bc-475c-bf94-3ed5e9cebddc",
   "metadata": {},
   "source": [
    "set default to iframe for quarto readability"
   ]
  },
  {
   "cell_type": "markdown",
   "id": "35687412-e729-4f92-8324-d59741243920",
   "metadata": {},
   "source": [
    "### Databases\n",
    "\n",
    "Today we are making a database. Similar to the pandas dataframe, we can create a dataframe by using the connect method and then inserting the name of the database.\n",
    "\n",
    "We also make some dataframes which will be added to the dataframe shortly"
   ]
  },
  {
   "cell_type": "code",
   "execution_count": 2,
   "id": "77014572-26c3-4db9-8303-11fb444e9d96",
   "metadata": {
    "tags": []
   },
   "outputs": [
    {
     "data": {
      "text/html": [
       "<div>\n",
       "<style scoped>\n",
       "    .dataframe tbody tr th:only-of-type {\n",
       "        vertical-align: middle;\n",
       "    }\n",
       "\n",
       "    .dataframe tbody tr th {\n",
       "        vertical-align: top;\n",
       "    }\n",
       "\n",
       "    .dataframe thead th {\n",
       "        text-align: right;\n",
       "    }\n",
       "</style>\n",
       "<table border=\"1\" class=\"dataframe\">\n",
       "  <thead>\n",
       "    <tr style=\"text-align: right;\">\n",
       "      <th></th>\n",
       "      <th>FIPS 10-4</th>\n",
       "      <th>ISO 3166</th>\n",
       "      <th>Name</th>\n",
       "    </tr>\n",
       "  </thead>\n",
       "  <tbody>\n",
       "    <tr>\n",
       "      <th>0</th>\n",
       "      <td>AF</td>\n",
       "      <td>AF</td>\n",
       "      <td>Afghanistan</td>\n",
       "    </tr>\n",
       "    <tr>\n",
       "      <th>1</th>\n",
       "      <td>AX</td>\n",
       "      <td>-</td>\n",
       "      <td>Akrotiri</td>\n",
       "    </tr>\n",
       "    <tr>\n",
       "      <th>2</th>\n",
       "      <td>AL</td>\n",
       "      <td>AL</td>\n",
       "      <td>Albania</td>\n",
       "    </tr>\n",
       "    <tr>\n",
       "      <th>3</th>\n",
       "      <td>AG</td>\n",
       "      <td>DZ</td>\n",
       "      <td>Algeria</td>\n",
       "    </tr>\n",
       "    <tr>\n",
       "      <th>4</th>\n",
       "      <td>AQ</td>\n",
       "      <td>AS</td>\n",
       "      <td>American Samoa</td>\n",
       "    </tr>\n",
       "    <tr>\n",
       "      <th>5</th>\n",
       "      <td>AN</td>\n",
       "      <td>AD</td>\n",
       "      <td>Andorra</td>\n",
       "    </tr>\n",
       "    <tr>\n",
       "      <th>6</th>\n",
       "      <td>AO</td>\n",
       "      <td>AO</td>\n",
       "      <td>Angola</td>\n",
       "    </tr>\n",
       "    <tr>\n",
       "      <th>7</th>\n",
       "      <td>AV</td>\n",
       "      <td>AI</td>\n",
       "      <td>Anguilla</td>\n",
       "    </tr>\n",
       "    <tr>\n",
       "      <th>8</th>\n",
       "      <td>AY</td>\n",
       "      <td>AQ</td>\n",
       "      <td>Antarctica</td>\n",
       "    </tr>\n",
       "    <tr>\n",
       "      <th>9</th>\n",
       "      <td>AC</td>\n",
       "      <td>AG</td>\n",
       "      <td>Antigua and Barbuda</td>\n",
       "    </tr>\n",
       "  </tbody>\n",
       "</table>\n",
       "</div>"
      ],
      "text/plain": [
       "  FIPS 10-4 ISO 3166                 Name\n",
       "0        AF       AF          Afghanistan\n",
       "1        AX        -             Akrotiri\n",
       "2        AL       AL              Albania\n",
       "3        AG       DZ              Algeria\n",
       "4        AQ       AS       American Samoa\n",
       "5        AN       AD              Andorra\n",
       "6        AO       AO               Angola\n",
       "7        AV       AI             Anguilla\n",
       "8        AY       AQ           Antarctica\n",
       "9        AC       AG  Antigua and Barbuda"
      ]
     },
     "execution_count": 2,
     "metadata": {},
     "output_type": "execute_result"
    }
   ],
   "source": [
    "import pandas as pd\n",
    "temps = pd.read_csv(\"temps.csv\")\n",
    "\n",
    "\n",
    "\n",
    "import sqlite3\n",
    "conn = sqlite3.connect(\"temps.db\")  # create a database in current directory called temps.db\n",
    "\n",
    "\n",
    "\n",
    "df = pd.read_csv(\"temps.csv\")\n",
    "\n",
    "\n",
    "\n",
    "\n",
    "\n",
    "\n",
    "countries_url = \"https://raw.githubusercontent.com/mysociety/gaze/master/data/fips-10-4-to-iso-country-codes.csv\"\n",
    "countries = pd.read_csv(countries_url)\n",
    "countries.head(10)\n"
   ]
  },
  {
   "cell_type": "markdown",
   "id": "0af3e2d3-cf7d-4975-b5c5-4f404feb5abb",
   "metadata": {
    "tags": []
   },
   "source": [
    "\n",
    "#### Prepping the dataframe\n",
    "\n",
    "This simply renames and sorts the dataframe such that it is more readable and better accessible when we use it later"
   ]
  },
  {
   "cell_type": "code",
   "execution_count": 3,
   "id": "0e60b19a-50fb-4081-87a2-0237f81f8506",
   "metadata": {
    "tags": []
   },
   "outputs": [
    {
     "data": {
      "text/html": [
       "<div>\n",
       "<style scoped>\n",
       "    .dataframe tbody tr th:only-of-type {\n",
       "        vertical-align: middle;\n",
       "    }\n",
       "\n",
       "    .dataframe tbody tr th {\n",
       "        vertical-align: top;\n",
       "    }\n",
       "\n",
       "    .dataframe thead th {\n",
       "        text-align: right;\n",
       "    }\n",
       "</style>\n",
       "<table border=\"1\" class=\"dataframe\">\n",
       "  <thead>\n",
       "    <tr style=\"text-align: right;\">\n",
       "      <th></th>\n",
       "      <th>ID</th>\n",
       "      <th>Year</th>\n",
       "      <th>Month</th>\n",
       "      <th>Temp</th>\n",
       "    </tr>\n",
       "  </thead>\n",
       "  <tbody>\n",
       "    <tr>\n",
       "      <th>0</th>\n",
       "      <td>ACW00011604</td>\n",
       "      <td>1961</td>\n",
       "      <td>1</td>\n",
       "      <td>-0.89</td>\n",
       "    </tr>\n",
       "    <tr>\n",
       "      <th>1</th>\n",
       "      <td>ACW00011604</td>\n",
       "      <td>1961</td>\n",
       "      <td>2</td>\n",
       "      <td>2.36</td>\n",
       "    </tr>\n",
       "    <tr>\n",
       "      <th>2</th>\n",
       "      <td>ACW00011604</td>\n",
       "      <td>1961</td>\n",
       "      <td>3</td>\n",
       "      <td>4.72</td>\n",
       "    </tr>\n",
       "    <tr>\n",
       "      <th>3</th>\n",
       "      <td>ACW00011604</td>\n",
       "      <td>1961</td>\n",
       "      <td>4</td>\n",
       "      <td>7.73</td>\n",
       "    </tr>\n",
       "    <tr>\n",
       "      <th>4</th>\n",
       "      <td>ACW00011604</td>\n",
       "      <td>1961</td>\n",
       "      <td>5</td>\n",
       "      <td>11.28</td>\n",
       "    </tr>\n",
       "  </tbody>\n",
       "</table>\n",
       "</div>"
      ],
      "text/plain": [
       "            ID  Year  Month   Temp\n",
       "0  ACW00011604  1961      1  -0.89\n",
       "1  ACW00011604  1961      2   2.36\n",
       "2  ACW00011604  1961      3   4.72\n",
       "3  ACW00011604  1961      4   7.73\n",
       "4  ACW00011604  1961      5  11.28"
      ]
     },
     "execution_count": 3,
     "metadata": {},
     "output_type": "execute_result"
    }
   ],
   "source": [
    "def prepare_df(df):\n",
    "    df = df.set_index(keys=[\"ID\", \"Year\"])\n",
    "    df = df.stack()\n",
    "    df = df.reset_index()\n",
    "    df = df.rename(columns = {\"level_2\"  : \"Month\" , 0 : \"Temp\"})\n",
    "    df[\"Month\"] = df[\"Month\"].str[5:].astype(int)\n",
    "    df[\"Temp\"]  = df[\"Temp\"] / 100\n",
    "    return(df)\n",
    "\n",
    "temps = prepare_df(temps)\n",
    "temps.head()"
   ]
  },
  {
   "cell_type": "markdown",
   "id": "4e4e5dd8-b402-45e5-9594-75d2d3a8eadd",
   "metadata": {
    "tags": []
   },
   "source": [
    "#### Add to database\n",
    "\n",
    "to_sql converts a dataframe to a database\n",
    "we first give the database table name, then the database name, then tell it to \"replace\" if such object already exists"
   ]
  },
  {
   "cell_type": "markdown",
   "id": "7d97fd31-21f2-48a6-acbf-1b927aff2e0f",
   "metadata": {
    "tags": []
   },
   "source": [
    "\n",
    "\n",
    "temps.to_sql(\"temperatures\", conn, if_exists = \"replace\", index = False)\n",
    "\n"
   ]
  },
  {
   "cell_type": "markdown",
   "id": "3e518509-fc4b-4d45-88da-86891eebb106",
   "metadata": {},
   "source": [
    "We do the same to \"stations\" and \"countries\""
   ]
  },
  {
   "cell_type": "code",
   "execution_count": 4,
   "id": "6dbebddf-a3fa-4210-a354-8b6a002a067b",
   "metadata": {},
   "outputs": [
    {
     "data": {
      "text/plain": [
       "27585"
      ]
     },
     "execution_count": 4,
     "metadata": {},
     "output_type": "execute_result"
    }
   ],
   "source": [
    "\n",
    "url = \"station-metadata.csv\"\n",
    "stations = pd.read_csv(url)\n",
    "stations.to_sql(\"stations\", conn, if_exists = \"replace\", index=False)\n"
   ]
  },
  {
   "cell_type": "code",
   "execution_count": 5,
   "id": "cd44d5a8-0cc6-442f-94e9-844edc026a50",
   "metadata": {
    "tags": []
   },
   "outputs": [
    {
     "data": {
      "text/plain": [
       "279"
      ]
     },
     "execution_count": 5,
     "metadata": {},
     "output_type": "execute_result"
    }
   ],
   "source": [
    "countries.to_sql(\"countries\", conn, if_exists = \"replace\", index = False)"
   ]
  },
  {
   "cell_type": "markdown",
   "id": "b41ee56c-fb7b-4744-80d4-7d1e44bc49bc",
   "metadata": {},
   "source": [
    "It is good practice to close databases when not in use"
   ]
  },
  {
   "cell_type": "code",
   "execution_count": 6,
   "id": "c17f711c-b667-4b49-85a0-719c773b5586",
   "metadata": {
    "tags": []
   },
   "outputs": [],
   "source": [
    "conn.close()"
   ]
  },
  {
   "cell_type": "markdown",
   "id": "69a13925-9c77-47b8-9942-6c92751f7c55",
   "metadata": {
    "tags": []
   },
   "source": [
    "## Create a query using sql\n",
    "\n",
    "we can convert a database to a pandas dataframe by using pd.read_sql_query.\n",
    "In that method, we hand it a command and the database name.\n",
    "the command, cmd tells the function what variables to include and how to include them"
   ]
  },
  {
   "cell_type": "code",
   "execution_count": 7,
   "id": "a6443f4c-0673-4553-8edb-b1d6bfa91922",
   "metadata": {
    "tags": []
   },
   "outputs": [],
   "source": [
    "\n",
    "def query_climate_database(country, year_begin, year_end, month):\n",
    "    \"\"\"creates a dataframe of temperature of a certain country from a certain month within a range of years\n",
    "\n",
    "    Keyword arguments:\n",
    "    country -- string: name of the country to be analyzed\n",
    "    year_begin -- int: beginning range of year\n",
    "    year_end -- int: end range of year\n",
    "    month -- int: month from 1-12\n",
    "    \"\"\"\n",
    "\n",
    "    cmd = \\\n",
    "    f\"\"\"\n",
    "    SELECT S.name, S.latitude, S.longitude, C.name, T.year, T.month, T.temp\n",
    "    FROM temperatures T \n",
    "    LEFT JOIN stations S ON T.id = S.id\n",
    "    LEFT JOIN countries C ON SUBSTRING(T.id,1, 2) = C.`FIPS 10-4` \n",
    "    WHERE T.year >= {year_begin} AND T.year <= {year_end} AND T.month == {month} AND C.name == \"{country}\"\n",
    "    \"\"\"\n",
    "    return pd.read_sql_query(cmd, conn)\n",
    "\n",
    "\n"
   ]
  },
  {
   "cell_type": "markdown",
   "id": "0f449beb-b594-4f7a-ad69-08e9707acaf0",
   "metadata": {},
   "source": [
    "Here we reopen the database and call the function"
   ]
  },
  {
   "cell_type": "code",
   "execution_count": 8,
   "id": "bd4178b1-9982-4d00-8263-92ed021f4069",
   "metadata": {
    "tags": []
   },
   "outputs": [
    {
     "data": {
      "text/html": [
       "<div>\n",
       "<style scoped>\n",
       "    .dataframe tbody tr th:only-of-type {\n",
       "        vertical-align: middle;\n",
       "    }\n",
       "\n",
       "    .dataframe tbody tr th {\n",
       "        vertical-align: top;\n",
       "    }\n",
       "\n",
       "    .dataframe thead th {\n",
       "        text-align: right;\n",
       "    }\n",
       "</style>\n",
       "<table border=\"1\" class=\"dataframe\">\n",
       "  <thead>\n",
       "    <tr style=\"text-align: right;\">\n",
       "      <th></th>\n",
       "      <th>NAME</th>\n",
       "      <th>LATITUDE</th>\n",
       "      <th>LONGITUDE</th>\n",
       "      <th>Name</th>\n",
       "      <th>Year</th>\n",
       "      <th>Month</th>\n",
       "      <th>Temp</th>\n",
       "    </tr>\n",
       "  </thead>\n",
       "  <tbody>\n",
       "    <tr>\n",
       "      <th>0</th>\n",
       "      <td>ADDISON</td>\n",
       "      <td>34.2553</td>\n",
       "      <td>-87.1814</td>\n",
       "      <td>United States</td>\n",
       "      <td>2001</td>\n",
       "      <td>10</td>\n",
       "      <td>13.83</td>\n",
       "    </tr>\n",
       "    <tr>\n",
       "      <th>1</th>\n",
       "      <td>ADDISON</td>\n",
       "      <td>34.2553</td>\n",
       "      <td>-87.1814</td>\n",
       "      <td>United States</td>\n",
       "      <td>2002</td>\n",
       "      <td>10</td>\n",
       "      <td>17.11</td>\n",
       "    </tr>\n",
       "    <tr>\n",
       "      <th>2</th>\n",
       "      <td>ADDISON</td>\n",
       "      <td>34.2553</td>\n",
       "      <td>-87.1814</td>\n",
       "      <td>United States</td>\n",
       "      <td>2004</td>\n",
       "      <td>10</td>\n",
       "      <td>17.98</td>\n",
       "    </tr>\n",
       "    <tr>\n",
       "      <th>3</th>\n",
       "      <td>ADDISON</td>\n",
       "      <td>34.2553</td>\n",
       "      <td>-87.1814</td>\n",
       "      <td>United States</td>\n",
       "      <td>2005</td>\n",
       "      <td>10</td>\n",
       "      <td>14.91</td>\n",
       "    </tr>\n",
       "    <tr>\n",
       "      <th>4</th>\n",
       "      <td>ADDISON</td>\n",
       "      <td>34.2553</td>\n",
       "      <td>-87.1814</td>\n",
       "      <td>United States</td>\n",
       "      <td>2010</td>\n",
       "      <td>10</td>\n",
       "      <td>16.04</td>\n",
       "    </tr>\n",
       "    <tr>\n",
       "      <th>...</th>\n",
       "      <td>...</td>\n",
       "      <td>...</td>\n",
       "      <td>...</td>\n",
       "      <td>...</td>\n",
       "      <td>...</td>\n",
       "      <td>...</td>\n",
       "      <td>...</td>\n",
       "    </tr>\n",
       "    <tr>\n",
       "      <th>202900</th>\n",
       "      <td>LINCOLN_11_SW</td>\n",
       "      <td>40.6953</td>\n",
       "      <td>-96.8542</td>\n",
       "      <td>United States</td>\n",
       "      <td>2016</td>\n",
       "      <td>10</td>\n",
       "      <td>14.42</td>\n",
       "    </tr>\n",
       "    <tr>\n",
       "      <th>202901</th>\n",
       "      <td>LINCOLN_11_SW</td>\n",
       "      <td>40.6953</td>\n",
       "      <td>-96.8542</td>\n",
       "      <td>United States</td>\n",
       "      <td>2017</td>\n",
       "      <td>10</td>\n",
       "      <td>12.52</td>\n",
       "    </tr>\n",
       "    <tr>\n",
       "      <th>202902</th>\n",
       "      <td>LINCOLN_11_SW</td>\n",
       "      <td>40.6953</td>\n",
       "      <td>-96.8542</td>\n",
       "      <td>United States</td>\n",
       "      <td>2018</td>\n",
       "      <td>10</td>\n",
       "      <td>10.08</td>\n",
       "    </tr>\n",
       "    <tr>\n",
       "      <th>202903</th>\n",
       "      <td>LINCOLN_11_SW</td>\n",
       "      <td>40.6953</td>\n",
       "      <td>-96.8542</td>\n",
       "      <td>United States</td>\n",
       "      <td>2019</td>\n",
       "      <td>10</td>\n",
       "      <td>9.31</td>\n",
       "    </tr>\n",
       "    <tr>\n",
       "      <th>202904</th>\n",
       "      <td>LINCOLN_11_SW</td>\n",
       "      <td>40.6953</td>\n",
       "      <td>-96.8542</td>\n",
       "      <td>United States</td>\n",
       "      <td>2020</td>\n",
       "      <td>10</td>\n",
       "      <td>9.48</td>\n",
       "    </tr>\n",
       "  </tbody>\n",
       "</table>\n",
       "<p>202905 rows × 7 columns</p>\n",
       "</div>"
      ],
      "text/plain": [
       "                 NAME  LATITUDE  LONGITUDE           Name  Year  Month   Temp\n",
       "0             ADDISON   34.2553   -87.1814  United States  2001     10  13.83\n",
       "1             ADDISON   34.2553   -87.1814  United States  2002     10  17.11\n",
       "2             ADDISON   34.2553   -87.1814  United States  2004     10  17.98\n",
       "3             ADDISON   34.2553   -87.1814  United States  2005     10  14.91\n",
       "4             ADDISON   34.2553   -87.1814  United States  2010     10  16.04\n",
       "...               ...       ...        ...            ...   ...    ...    ...\n",
       "202900  LINCOLN_11_SW   40.6953   -96.8542  United States  2016     10  14.42\n",
       "202901  LINCOLN_11_SW   40.6953   -96.8542  United States  2017     10  12.52\n",
       "202902  LINCOLN_11_SW   40.6953   -96.8542  United States  2018     10  10.08\n",
       "202903  LINCOLN_11_SW   40.6953   -96.8542  United States  2019     10   9.31\n",
       "202904  LINCOLN_11_SW   40.6953   -96.8542  United States  2020     10   9.48\n",
       "\n",
       "[202905 rows x 7 columns]"
      ]
     },
     "execution_count": 8,
     "metadata": {},
     "output_type": "execute_result"
    }
   ],
   "source": [
    "conn = sqlite3.connect(\"temps.db\")\n",
    "\n",
    "USAtemps = query_climate_database(\"United States\", 1990, 2020, 10)\n",
    "USAtemps"
   ]
  },
  {
   "cell_type": "markdown",
   "id": "7d33ce68-2cec-43cc-8340-079cc01a07f9",
   "metadata": {
    "tags": []
   },
   "source": [
    "## Function to plot average yearly termperature change in a certain country  \n",
    "\n",
    "\n",
    "This is a helper function to calculate **year-over-year average change in temperature**"
   ]
  },
  {
   "cell_type": "code",
   "execution_count": 9,
   "id": "3622a6aa-e951-4697-9309-885b9b5af2e0",
   "metadata": {
    "tags": []
   },
   "outputs": [],
   "source": [
    "from sklearn.linear_model import LinearRegression\n",
    "\n",
    "def coef(data_group):\n",
    "    x = data_group[[\"Year\"]] # 2 brackets because X should be a df\n",
    "    y = data_group[\"Temp\"]   # 1 bracket because y should be a series\n",
    "    LR = LinearRegression()\n",
    "    LR.fit(x, y)\n",
    "    return LR.coef_[0]"
   ]
  },
  {
   "cell_type": "markdown",
   "id": "da650c80-593f-4e57-9705-4f4eb7996136",
   "metadata": {},
   "source": [
    "Function which calculates plots the data using a plotly scatter_mapbox"
   ]
  },
  {
   "cell_type": "code",
   "execution_count": 10,
   "id": "56660818-e6e5-4cd1-8352-921bd3a1c1a8",
   "metadata": {
    "tags": []
   },
   "outputs": [],
   "source": [
    "from plotly import express as px\n",
    "import numpy as np\n",
    "def temperature_coefficient_plot(country, year_begin, year_end, month, min_obs, **kwargs):\n",
    "    countryTemps = query_climate_database(country, year_begin, year_end, month)\n",
    "    \n",
    "    #removes enteries with less than min_obs observations\n",
    "    value_counts = countryTemps[\"NAME\"].value_counts()\n",
    "    countryTemps = countryTemps[countryTemps['NAME'].isin(value_counts.index[value_counts >= min_obs])]\n",
    "    \n",
    "    \n",
    "    #calculate change in temperature\n",
    "    coefs = countryTemps.groupby([\"NAME\"]).apply(coef)\n",
    "    coefs = coefs.reset_index()\n",
    "    \n",
    "    #add the change in temperature to the main dataframe\n",
    "    countryTemps = pd.merge(coefs, countryTemps, on = [\"NAME\"])\n",
    "    countryTemps.rename(columns = {0: \"Yearly Temperature Increase\"}, inplace = True) \n",
    "    \n",
    "    colorMap = px.colors.diverging.RdGy_r\n",
    "    #dictionary to translate month number to month name\n",
    "    monthKey = { 1: \"January\", 2: \"February\", 3: \"March\", 4: \"April\", 5: \"May\", 6: \"June\", 7: \"July\", 8: \"August\", 9: \"September\", 10: \"October\", 11: \"November\", 12: \"December\"}\n",
    "    \n",
    "    \n",
    "    fig = px.scatter_mapbox(countryTemps,\n",
    "                            lat = \"LATITUDE\",\n",
    "                            lon = \"LONGITUDE\",\n",
    "                            hover_name = \"NAME\",\n",
    "                            color = \"Yearly Temperature Increase\",\n",
    "                            mapbox_style = \"carto-positron\",\n",
    "                            color_continuous_scale = colorMap,\n",
    "                            zoom = 2.5,\n",
    "                            title = f\"Yearly Increase in Temperature (°C) in {monthKey[month]} for stations in {country} from {year_begin} to {year_end}\",\n",
    "                            **kwargs\n",
    "                            )\n",
    "    fig.update_layout(\n",
    "        autosize=False,\n",
    "        width=1000,\n",
    "        height=750)\n",
    "    return fig\n"
   ]
  },
  {
   "cell_type": "markdown",
   "id": "0ba6933d-8c05-4799-8f7f-9b995c1b3179",
   "metadata": {},
   "source": [
    "Notice this map is interactive"
   ]
  },
  {
   "cell_type": "code",
   "execution_count": 11,
   "id": "75831db7-3050-4ec5-9741-066b1940eb2b",
   "metadata": {
    "tags": []
   },
   "outputs": [
    {
     "data": {
      "text/html": [
       "<iframe\n",
       "    scrolling=\"no\"\n",
       "    width=\"1020px\"\n",
       "    height=\"770\"\n",
       "    src=\"iframe_figures/figure_11.html\"\n",
       "    frameborder=\"0\"\n",
       "    allowfullscreen\n",
       "></iframe>\n"
      ]
     },
     "metadata": {},
     "output_type": "display_data"
    }
   ],
   "source": [
    "temperature_coefficient_plot(\"United States\", 1980, 2020, 1, 20)\n"
   ]
  },
  {
   "cell_type": "markdown",
   "id": "59be272f-38b1-4c70-96fe-4623374ba369",
   "metadata": {
    "tags": []
   },
   "source": [
    "## Comparing climate of two different countries\n",
    "\n",
    "Now we will create a function which compares the temperature of two countries over the years"
   ]
  },
  {
   "cell_type": "markdown",
   "id": "4f1da074-2df5-45df-9b46-81cf7398d956",
   "metadata": {},
   "source": [
    "The first function gets a dataframe from the function used earlier\n",
    "The second function combines 2 dataframes and plots them in a line graph"
   ]
  },
  {
   "cell_type": "code",
   "execution_count": 12,
   "id": "fbc49ed8-4541-489b-beb2-585e22288f13",
   "metadata": {},
   "outputs": [],
   "source": [
    "def countryYearlyTempChange(country, year_begin, year_end, month, min_obs):\n",
    "    countryTemps = query_climate_database(country, year_begin, year_end, month)\n",
    "    \n",
    "    #removes enteries with less than min_obs observations\n",
    "    value_counts = countryTemps[\"NAME\"].value_counts()\n",
    "    countryTemps = countryTemps[countryTemps['NAME'].isin(value_counts.index[value_counts >= min_obs])]\n",
    "    \n",
    "    return countryTemps\n",
    "   \n",
    "def countryCompareLineGraph(country1, country2, year_begin, year_end, month, min_obs, **kwargs):\n",
    "    country1 = countryYearlyTempChange(country1, year_begin, year_end, month, min_obs)\n",
    "    country2 = countryYearlyTempChange(country2, year_begin, year_end, month, min_obs)\n",
    "    \n",
    "    df = pd.concat([country1, country2], ignore_index = True)\n",
    "    \n",
    "    \n",
    "    fig = px.scatter(df, x=\"Year\", y=\"Temp\", color='Name')\n",
    "    fig.show()\n"
   ]
  },
  {
   "cell_type": "code",
   "execution_count": 13,
   "id": "627a57aa-cd0d-477f-bedd-ebf9806e8b3b",
   "metadata": {
    "tags": []
   },
   "outputs": [
    {
     "data": {
      "text/html": [
       "<iframe\n",
       "    scrolling=\"no\"\n",
       "    width=\"100%\"\n",
       "    height=\"545px\"\n",
       "    src=\"iframe_figures/figure_13.html\"\n",
       "    frameborder=\"0\"\n",
       "    allowfullscreen\n",
       "></iframe>\n"
      ]
     },
     "metadata": {},
     "output_type": "display_data"
    }
   ],
   "source": [
    "countryCompareLineGraph(\"United States\", \"India\", 1990, 2010, 10, 20)"
   ]
  },
  {
   "cell_type": "markdown",
   "id": "2eba62c4-fff0-4f77-a417-4db9e240c0ef",
   "metadata": {
    "tags": []
   },
   "source": [
    "## Temperature by year for a country\n",
    "\n",
    "To get a grasp at climate change, one can see the climate by year in this graph\""
   ]
  },
  {
   "cell_type": "code",
   "execution_count": 14,
   "id": "b5d6bb72-e5d6-4dd1-8c1d-9b7abf9e649e",
   "metadata": {
    "tags": []
   },
   "outputs": [],
   "source": [
    "def countryTemp (country, year_begin, year_end, month, min_obs):\n",
    "    countryTemps = query_climate_database(country, year_begin, year_end, month)\n",
    "    \n",
    "    #removes enteries with less than min_obs observations\n",
    "    value_counts = countryTemps[\"NAME\"].value_counts()\n",
    "    countryTemps = countryTemps[countryTemps['NAME'].isin(value_counts.index[value_counts >= min_obs])]\n",
    "    \n",
    "    \n",
    "    monthKey = { 1: \"January\", 2: \"February\", 3: \"March\", 4: \"April\", 5: \"May\", 6: \"June\", 7: \"July\", 8: \"August\", 9: \"September\", 10: \"October\", 11: \"November\", 12: \"December\"}\n",
    "    \n",
    "    fig = px.bar(countryTemps, x ='Year', y='Temp', title = f\"Average temperature in {monthKey[month]} in {country}\")\n",
    "    fig.show()"
   ]
  },
  {
   "cell_type": "code",
   "execution_count": 15,
   "id": "8363b612-fecf-496f-92e6-28de9d5df442",
   "metadata": {
    "tags": []
   },
   "outputs": [
    {
     "data": {
      "text/html": [
       "<iframe\n",
       "    scrolling=\"no\"\n",
       "    width=\"100%\"\n",
       "    height=\"545px\"\n",
       "    src=\"iframe_figures/figure_15.html\"\n",
       "    frameborder=\"0\"\n",
       "    allowfullscreen\n",
       "></iframe>\n"
      ]
     },
     "metadata": {},
     "output_type": "display_data"
    }
   ],
   "source": [
    "countryTemp('United States', 1990, 2020, 10, 20)"
   ]
  },
  {
   "cell_type": "code",
   "execution_count": null,
   "id": "aace01df-a0d9-42a0-9199-1c6569faf2a9",
   "metadata": {},
   "outputs": [],
   "source": []
  }
 ],
 "metadata": {
  "kernelspec": {
   "display_name": "Python [conda env:PIC16B-3] *",
   "language": "python",
   "name": "conda-env-PIC16B-3-py"
  },
  "language_info": {
   "codemirror_mode": {
    "name": "ipython",
    "version": 3
   },
   "file_extension": ".py",
   "mimetype": "text/x-python",
   "name": "python",
   "nbconvert_exporter": "python",
   "pygments_lexer": "ipython3",
   "version": "3.11.6"
  }
 },
 "nbformat": 4,
 "nbformat_minor": 5
}
