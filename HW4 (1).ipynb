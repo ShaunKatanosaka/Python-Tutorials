{
  "cells": [
    {
      "cell_type": "raw",
      "source": [
        "---\n",
        "title: \"HW4\"\n",
        "author: \"Shaun Katanosaka\"\n",
        "date: \"2023-11-22\"\n",
        "categories: [week 8]\n",
        "---\n"
      ],
      "metadata": {
        "id": "TJY9hd-WeYTR"
      },
      "id": "TJY9hd-WeYTR"
    },
    {
      "cell_type": "markdown",
      "source": [
        "# Fake News Classification"
      ],
      "metadata": {
        "id": "z84XUAqCk5yI"
      },
      "id": "z84XUAqCk5yI"
    },
    {
      "cell_type": "markdown",
      "source": [
        "This tutorial will go over classification of articles as fake or not."
      ],
      "metadata": {
        "id": "Z54-zFLGk46i"
      },
      "id": "Z54-zFLGk46i"
    },
    {
      "cell_type": "code",
      "execution_count": 1,
      "id": "4b14f340-f124-4cfa-ba29-efd27e7eb5ce",
      "metadata": {
        "tags": [],
        "id": "4b14f340-f124-4cfa-ba29-efd27e7eb5ce"
      },
      "outputs": [],
      "source": [
        "import pandas as pd\n",
        "import tensorflow as tf\n",
        "import string\n",
        "import keras\n",
        "from keras import layers\n",
        "from tensorflow.keras import layers\n",
        "from tensorflow.keras import losses\n",
        "import nltk\n"
      ]
    },
    {
      "cell_type": "markdown",
      "source": [
        "This is our training dataset, which we save as a pandas dataframe"
      ],
      "metadata": {
        "id": "au_cgvvRk91m"
      },
      "id": "au_cgvvRk91m"
    },
    {
      "cell_type": "code",
      "execution_count": 2,
      "id": "1d6cd563-38f3-4df2-af3b-b4c400edb6d4",
      "metadata": {
        "tags": [],
        "id": "1d6cd563-38f3-4df2-af3b-b4c400edb6d4"
      },
      "outputs": [],
      "source": [
        "train_url = \"https://github.com/PhilChodrow/PIC16b/blob/master/datasets/fake_news_train.csv?raw=true\""
      ]
    },
    {
      "cell_type": "code",
      "execution_count": 3,
      "id": "cffd52c5-7278-420f-aeca-d2314eee8d16",
      "metadata": {
        "tags": [],
        "id": "cffd52c5-7278-420f-aeca-d2314eee8d16"
      },
      "outputs": [],
      "source": [
        "trainData = pd.read_csv(train_url)"
      ]
    },
    {
      "cell_type": "code",
      "execution_count": 4,
      "id": "8741364a-3b61-46c2-ae4a-ea79e8495771",
      "metadata": {
        "tags": [],
        "colab": {
          "base_uri": "https://localhost:8080/",
          "height": 424
        },
        "id": "8741364a-3b61-46c2-ae4a-ea79e8495771",
        "outputId": "4f2b0cd2-84eb-4ef3-889b-ac43cdef96d6"
      },
      "outputs": [
        {
          "output_type": "execute_result",
          "data": {
            "text/plain": [
              "       Unnamed: 0                                              title  \\\n",
              "0           17366  Merkel: Strong result for Austria's FPO 'big c...   \n",
              "1            5634       Trump says Pence will lead voter fraud panel   \n",
              "2           17487  JUST IN: SUSPECTED LEAKER and “Close Confidant...   \n",
              "3           12217  Thyssenkrupp has offered help to Argentina ove...   \n",
              "4            5535  Trump say appeals court decision on travel ban...   \n",
              "...           ...                                                ...   \n",
              "22444       10709  ALARMING: NSA Refuses to Release Clinton-Lynch...   \n",
              "22445        8731  Can Pence's vow not to sling mud survive a Tru...   \n",
              "22446        4733   Watch Trump Campaign Try To Spin Their Way Ou...   \n",
              "22447        3993  Trump celebrates first 100 days as president, ...   \n",
              "22448       12896  TRUMP SUPPORTERS REACT TO DEBATE: “Clinton New...   \n",
              "\n",
              "                                                    text  fake  \n",
              "0      German Chancellor Angela Merkel said on Monday...     0  \n",
              "1      WEST PALM BEACH, Fla.President Donald Trump sa...     0  \n",
              "2      On December 5, 2017, Circa s Sara Carter warne...     1  \n",
              "3      Germany s Thyssenkrupp, has offered assistance...     0  \n",
              "4      President Donald Trump on Thursday called the ...     0  \n",
              "...                                                  ...   ...  \n",
              "22444  If Clinton and Lynch just talked about grandki...     1  \n",
              "22445  () - In 1990, during a close and bitter congre...     0  \n",
              "22446  A new ad by the Hillary Clinton SuperPac Prior...     1  \n",
              "22447  HARRISBURG, Pa.U.S. President Donald Trump hit...     0  \n",
              "22448  MELBOURNE, FL is a town with a population of 7...     1  \n",
              "\n",
              "[22449 rows x 4 columns]"
            ],
            "text/html": [
              "\n",
              "  <div id=\"df-33e080a4-5c50-49de-8820-ede6de596147\" class=\"colab-df-container\">\n",
              "    <div>\n",
              "<style scoped>\n",
              "    .dataframe tbody tr th:only-of-type {\n",
              "        vertical-align: middle;\n",
              "    }\n",
              "\n",
              "    .dataframe tbody tr th {\n",
              "        vertical-align: top;\n",
              "    }\n",
              "\n",
              "    .dataframe thead th {\n",
              "        text-align: right;\n",
              "    }\n",
              "</style>\n",
              "<table border=\"1\" class=\"dataframe\">\n",
              "  <thead>\n",
              "    <tr style=\"text-align: right;\">\n",
              "      <th></th>\n",
              "      <th>Unnamed: 0</th>\n",
              "      <th>title</th>\n",
              "      <th>text</th>\n",
              "      <th>fake</th>\n",
              "    </tr>\n",
              "  </thead>\n",
              "  <tbody>\n",
              "    <tr>\n",
              "      <th>0</th>\n",
              "      <td>17366</td>\n",
              "      <td>Merkel: Strong result for Austria's FPO 'big c...</td>\n",
              "      <td>German Chancellor Angela Merkel said on Monday...</td>\n",
              "      <td>0</td>\n",
              "    </tr>\n",
              "    <tr>\n",
              "      <th>1</th>\n",
              "      <td>5634</td>\n",
              "      <td>Trump says Pence will lead voter fraud panel</td>\n",
              "      <td>WEST PALM BEACH, Fla.President Donald Trump sa...</td>\n",
              "      <td>0</td>\n",
              "    </tr>\n",
              "    <tr>\n",
              "      <th>2</th>\n",
              "      <td>17487</td>\n",
              "      <td>JUST IN: SUSPECTED LEAKER and “Close Confidant...</td>\n",
              "      <td>On December 5, 2017, Circa s Sara Carter warne...</td>\n",
              "      <td>1</td>\n",
              "    </tr>\n",
              "    <tr>\n",
              "      <th>3</th>\n",
              "      <td>12217</td>\n",
              "      <td>Thyssenkrupp has offered help to Argentina ove...</td>\n",
              "      <td>Germany s Thyssenkrupp, has offered assistance...</td>\n",
              "      <td>0</td>\n",
              "    </tr>\n",
              "    <tr>\n",
              "      <th>4</th>\n",
              "      <td>5535</td>\n",
              "      <td>Trump say appeals court decision on travel ban...</td>\n",
              "      <td>President Donald Trump on Thursday called the ...</td>\n",
              "      <td>0</td>\n",
              "    </tr>\n",
              "    <tr>\n",
              "      <th>...</th>\n",
              "      <td>...</td>\n",
              "      <td>...</td>\n",
              "      <td>...</td>\n",
              "      <td>...</td>\n",
              "    </tr>\n",
              "    <tr>\n",
              "      <th>22444</th>\n",
              "      <td>10709</td>\n",
              "      <td>ALARMING: NSA Refuses to Release Clinton-Lynch...</td>\n",
              "      <td>If Clinton and Lynch just talked about grandki...</td>\n",
              "      <td>1</td>\n",
              "    </tr>\n",
              "    <tr>\n",
              "      <th>22445</th>\n",
              "      <td>8731</td>\n",
              "      <td>Can Pence's vow not to sling mud survive a Tru...</td>\n",
              "      <td>() - In 1990, during a close and bitter congre...</td>\n",
              "      <td>0</td>\n",
              "    </tr>\n",
              "    <tr>\n",
              "      <th>22446</th>\n",
              "      <td>4733</td>\n",
              "      <td>Watch Trump Campaign Try To Spin Their Way Ou...</td>\n",
              "      <td>A new ad by the Hillary Clinton SuperPac Prior...</td>\n",
              "      <td>1</td>\n",
              "    </tr>\n",
              "    <tr>\n",
              "      <th>22447</th>\n",
              "      <td>3993</td>\n",
              "      <td>Trump celebrates first 100 days as president, ...</td>\n",
              "      <td>HARRISBURG, Pa.U.S. President Donald Trump hit...</td>\n",
              "      <td>0</td>\n",
              "    </tr>\n",
              "    <tr>\n",
              "      <th>22448</th>\n",
              "      <td>12896</td>\n",
              "      <td>TRUMP SUPPORTERS REACT TO DEBATE: “Clinton New...</td>\n",
              "      <td>MELBOURNE, FL is a town with a population of 7...</td>\n",
              "      <td>1</td>\n",
              "    </tr>\n",
              "  </tbody>\n",
              "</table>\n",
              "<p>22449 rows × 4 columns</p>\n",
              "</div>\n",
              "    <div class=\"colab-df-buttons\">\n",
              "\n",
              "  <div class=\"colab-df-container\">\n",
              "    <button class=\"colab-df-convert\" onclick=\"convertToInteractive('df-33e080a4-5c50-49de-8820-ede6de596147')\"\n",
              "            title=\"Convert this dataframe to an interactive table.\"\n",
              "            style=\"display:none;\">\n",
              "\n",
              "  <svg xmlns=\"http://www.w3.org/2000/svg\" height=\"24px\" viewBox=\"0 -960 960 960\">\n",
              "    <path d=\"M120-120v-720h720v720H120Zm60-500h600v-160H180v160Zm220 220h160v-160H400v160Zm0 220h160v-160H400v160ZM180-400h160v-160H180v160Zm440 0h160v-160H620v160ZM180-180h160v-160H180v160Zm440 0h160v-160H620v160Z\"/>\n",
              "  </svg>\n",
              "    </button>\n",
              "\n",
              "  <style>\n",
              "    .colab-df-container {\n",
              "      display:flex;\n",
              "      gap: 12px;\n",
              "    }\n",
              "\n",
              "    .colab-df-convert {\n",
              "      background-color: #E8F0FE;\n",
              "      border: none;\n",
              "      border-radius: 50%;\n",
              "      cursor: pointer;\n",
              "      display: none;\n",
              "      fill: #1967D2;\n",
              "      height: 32px;\n",
              "      padding: 0 0 0 0;\n",
              "      width: 32px;\n",
              "    }\n",
              "\n",
              "    .colab-df-convert:hover {\n",
              "      background-color: #E2EBFA;\n",
              "      box-shadow: 0px 1px 2px rgba(60, 64, 67, 0.3), 0px 1px 3px 1px rgba(60, 64, 67, 0.15);\n",
              "      fill: #174EA6;\n",
              "    }\n",
              "\n",
              "    .colab-df-buttons div {\n",
              "      margin-bottom: 4px;\n",
              "    }\n",
              "\n",
              "    [theme=dark] .colab-df-convert {\n",
              "      background-color: #3B4455;\n",
              "      fill: #D2E3FC;\n",
              "    }\n",
              "\n",
              "    [theme=dark] .colab-df-convert:hover {\n",
              "      background-color: #434B5C;\n",
              "      box-shadow: 0px 1px 3px 1px rgba(0, 0, 0, 0.15);\n",
              "      filter: drop-shadow(0px 1px 2px rgba(0, 0, 0, 0.3));\n",
              "      fill: #FFFFFF;\n",
              "    }\n",
              "  </style>\n",
              "\n",
              "    <script>\n",
              "      const buttonEl =\n",
              "        document.querySelector('#df-33e080a4-5c50-49de-8820-ede6de596147 button.colab-df-convert');\n",
              "      buttonEl.style.display =\n",
              "        google.colab.kernel.accessAllowed ? 'block' : 'none';\n",
              "\n",
              "      async function convertToInteractive(key) {\n",
              "        const element = document.querySelector('#df-33e080a4-5c50-49de-8820-ede6de596147');\n",
              "        const dataTable =\n",
              "          await google.colab.kernel.invokeFunction('convertToInteractive',\n",
              "                                                    [key], {});\n",
              "        if (!dataTable) return;\n",
              "\n",
              "        const docLinkHtml = 'Like what you see? Visit the ' +\n",
              "          '<a target=\"_blank\" href=https://colab.research.google.com/notebooks/data_table.ipynb>data table notebook</a>'\n",
              "          + ' to learn more about interactive tables.';\n",
              "        element.innerHTML = '';\n",
              "        dataTable['output_type'] = 'display_data';\n",
              "        await google.colab.output.renderOutput(dataTable, element);\n",
              "        const docLink = document.createElement('div');\n",
              "        docLink.innerHTML = docLinkHtml;\n",
              "        element.appendChild(docLink);\n",
              "      }\n",
              "    </script>\n",
              "  </div>\n",
              "\n",
              "\n",
              "<div id=\"df-3283cfe3-d8d1-468b-80e3-accaa54a3a2a\">\n",
              "  <button class=\"colab-df-quickchart\" onclick=\"quickchart('df-3283cfe3-d8d1-468b-80e3-accaa54a3a2a')\"\n",
              "            title=\"Suggest charts\"\n",
              "            style=\"display:none;\">\n",
              "\n",
              "<svg xmlns=\"http://www.w3.org/2000/svg\" height=\"24px\"viewBox=\"0 0 24 24\"\n",
              "     width=\"24px\">\n",
              "    <g>\n",
              "        <path d=\"M19 3H5c-1.1 0-2 .9-2 2v14c0 1.1.9 2 2 2h14c1.1 0 2-.9 2-2V5c0-1.1-.9-2-2-2zM9 17H7v-7h2v7zm4 0h-2V7h2v10zm4 0h-2v-4h2v4z\"/>\n",
              "    </g>\n",
              "</svg>\n",
              "  </button>\n",
              "\n",
              "<style>\n",
              "  .colab-df-quickchart {\n",
              "      --bg-color: #E8F0FE;\n",
              "      --fill-color: #1967D2;\n",
              "      --hover-bg-color: #E2EBFA;\n",
              "      --hover-fill-color: #174EA6;\n",
              "      --disabled-fill-color: #AAA;\n",
              "      --disabled-bg-color: #DDD;\n",
              "  }\n",
              "\n",
              "  [theme=dark] .colab-df-quickchart {\n",
              "      --bg-color: #3B4455;\n",
              "      --fill-color: #D2E3FC;\n",
              "      --hover-bg-color: #434B5C;\n",
              "      --hover-fill-color: #FFFFFF;\n",
              "      --disabled-bg-color: #3B4455;\n",
              "      --disabled-fill-color: #666;\n",
              "  }\n",
              "\n",
              "  .colab-df-quickchart {\n",
              "    background-color: var(--bg-color);\n",
              "    border: none;\n",
              "    border-radius: 50%;\n",
              "    cursor: pointer;\n",
              "    display: none;\n",
              "    fill: var(--fill-color);\n",
              "    height: 32px;\n",
              "    padding: 0;\n",
              "    width: 32px;\n",
              "  }\n",
              "\n",
              "  .colab-df-quickchart:hover {\n",
              "    background-color: var(--hover-bg-color);\n",
              "    box-shadow: 0 1px 2px rgba(60, 64, 67, 0.3), 0 1px 3px 1px rgba(60, 64, 67, 0.15);\n",
              "    fill: var(--button-hover-fill-color);\n",
              "  }\n",
              "\n",
              "  .colab-df-quickchart-complete:disabled,\n",
              "  .colab-df-quickchart-complete:disabled:hover {\n",
              "    background-color: var(--disabled-bg-color);\n",
              "    fill: var(--disabled-fill-color);\n",
              "    box-shadow: none;\n",
              "  }\n",
              "\n",
              "  .colab-df-spinner {\n",
              "    border: 2px solid var(--fill-color);\n",
              "    border-color: transparent;\n",
              "    border-bottom-color: var(--fill-color);\n",
              "    animation:\n",
              "      spin 1s steps(1) infinite;\n",
              "  }\n",
              "\n",
              "  @keyframes spin {\n",
              "    0% {\n",
              "      border-color: transparent;\n",
              "      border-bottom-color: var(--fill-color);\n",
              "      border-left-color: var(--fill-color);\n",
              "    }\n",
              "    20% {\n",
              "      border-color: transparent;\n",
              "      border-left-color: var(--fill-color);\n",
              "      border-top-color: var(--fill-color);\n",
              "    }\n",
              "    30% {\n",
              "      border-color: transparent;\n",
              "      border-left-color: var(--fill-color);\n",
              "      border-top-color: var(--fill-color);\n",
              "      border-right-color: var(--fill-color);\n",
              "    }\n",
              "    40% {\n",
              "      border-color: transparent;\n",
              "      border-right-color: var(--fill-color);\n",
              "      border-top-color: var(--fill-color);\n",
              "    }\n",
              "    60% {\n",
              "      border-color: transparent;\n",
              "      border-right-color: var(--fill-color);\n",
              "    }\n",
              "    80% {\n",
              "      border-color: transparent;\n",
              "      border-right-color: var(--fill-color);\n",
              "      border-bottom-color: var(--fill-color);\n",
              "    }\n",
              "    90% {\n",
              "      border-color: transparent;\n",
              "      border-bottom-color: var(--fill-color);\n",
              "    }\n",
              "  }\n",
              "</style>\n",
              "\n",
              "  <script>\n",
              "    async function quickchart(key) {\n",
              "      const quickchartButtonEl =\n",
              "        document.querySelector('#' + key + ' button');\n",
              "      quickchartButtonEl.disabled = true;  // To prevent multiple clicks.\n",
              "      quickchartButtonEl.classList.add('colab-df-spinner');\n",
              "      try {\n",
              "        const charts = await google.colab.kernel.invokeFunction(\n",
              "            'suggestCharts', [key], {});\n",
              "      } catch (error) {\n",
              "        console.error('Error during call to suggestCharts:', error);\n",
              "      }\n",
              "      quickchartButtonEl.classList.remove('colab-df-spinner');\n",
              "      quickchartButtonEl.classList.add('colab-df-quickchart-complete');\n",
              "    }\n",
              "    (() => {\n",
              "      let quickchartButtonEl =\n",
              "        document.querySelector('#df-3283cfe3-d8d1-468b-80e3-accaa54a3a2a button');\n",
              "      quickchartButtonEl.style.display =\n",
              "        google.colab.kernel.accessAllowed ? 'block' : 'none';\n",
              "    })();\n",
              "  </script>\n",
              "</div>\n",
              "    </div>\n",
              "  </div>\n"
            ]
          },
          "metadata": {},
          "execution_count": 4
        }
      ],
      "source": [
        "trainData"
      ]
    },
    {
      "cell_type": "markdown",
      "source": [
        "We want to remove \"stopwords\" from the text, which we will do by removing words that are in the set of english stopwords from the nltk package."
      ],
      "metadata": {
        "id": "uiYtizLalGR9"
      },
      "id": "uiYtizLalGR9"
    },
    {
      "cell_type": "code",
      "execution_count": 5,
      "id": "7125ae2a-b74c-462a-8ff2-bd321dd8b360",
      "metadata": {
        "tags": [],
        "colab": {
          "base_uri": "https://localhost:8080/"
        },
        "id": "7125ae2a-b74c-462a-8ff2-bd321dd8b360",
        "outputId": "0a511d5d-2b57-48a8-9eaf-0e1a3634dc30"
      },
      "outputs": [
        {
          "output_type": "stream",
          "name": "stderr",
          "text": [
            "[nltk_data] Downloading package stopwords to /root/nltk_data...\n",
            "[nltk_data]   Package stopwords is already up-to-date!\n"
          ]
        }
      ],
      "source": [
        "from nltk.corpus import stopwords\n",
        "nltk.download('stopwords')\n",
        "stop = stopwords.words('english')"
      ]
    },
    {
      "cell_type": "markdown",
      "source": [
        "here we write a function to make a Dataset where the title and text are in separate columns, and are free of any \"stopwords\""
      ],
      "metadata": {
        "id": "b1APwDfJlQlb"
      },
      "id": "b1APwDfJlQlb"
    },
    {
      "cell_type": "code",
      "execution_count": 6,
      "id": "bf081e1f-9b93-48dd-86a3-5d7081b78180",
      "metadata": {
        "id": "bf081e1f-9b93-48dd-86a3-5d7081b78180"
      },
      "outputs": [],
      "source": [
        "def make_dataset(df):\n",
        "    #\n",
        "    df[\"title\"] = df['title'].apply(lambda x: ' '.join([word for word in x.split() if word not in (stop)]))\n",
        "    #\n",
        "    df[\"text\"] = df['text'].apply(lambda x: ' '.join([word for word in x.split() if word not in (stop)]))\n",
        "\n",
        "\n",
        "    data = tf.data.Dataset.from_tensor_slices((\n",
        "    #input dictionary\n",
        "    { \"title\": df[[\"title\"]],\n",
        "     \"text\": df[\"text\"]},\n",
        "\n",
        "    #output dictionary\n",
        "    { \"fake\": df[[\"fake\"]]}\n",
        "    ))\n",
        "    return data.batch(100) #we use batch to make the program run faster"
      ]
    },
    {
      "cell_type": "markdown",
      "source": [
        "There are a total of 225 articles in our dataset."
      ],
      "metadata": {
        "id": "dSxvIE3_ld3M"
      },
      "id": "dSxvIE3_ld3M"
    },
    {
      "cell_type": "code",
      "execution_count": 7,
      "id": "dc8bdffa-03d0-4110-ae65-72100b499788",
      "metadata": {
        "tags": [],
        "id": "dc8bdffa-03d0-4110-ae65-72100b499788"
      },
      "outputs": [],
      "source": [
        "dataset = make_dataset(trainData)"
      ]
    },
    {
      "cell_type": "code",
      "execution_count": 8,
      "id": "74127222-3741-4af8-82d6-48bef6d01bb2",
      "metadata": {
        "tags": [],
        "colab": {
          "base_uri": "https://localhost:8080/"
        },
        "id": "74127222-3741-4af8-82d6-48bef6d01bb2",
        "outputId": "7753947a-dd25-4ad6-8e02-096e91f5b83f"
      },
      "outputs": [
        {
          "output_type": "stream",
          "name": "stdout",
          "text": [
            "225\n"
          ]
        }
      ],
      "source": [
        "dataset_size = len(dataset)\n",
        "print(dataset_size)"
      ]
    },
    {
      "cell_type": "markdown",
      "id": "b26c45d5-1bb9-468f-867d-1164c66008f8",
      "metadata": {
        "id": "b26c45d5-1bb9-468f-867d-1164c66008f8"
      },
      "source": [
        "# Split Dataset\n",
        "20% of the dataset is reserved for validation dataset"
      ]
    },
    {
      "cell_type": "markdown",
      "source": [
        "We reserve 20% of the dataset to be used to validate our training. This will help with overfitting and improving our model."
      ],
      "metadata": {
        "id": "YrGBAVDllmG5"
      },
      "id": "YrGBAVDllmG5"
    },
    {
      "cell_type": "code",
      "execution_count": 9,
      "id": "c9b8c6ac-6a73-46ca-b306-6489038f2cb5",
      "metadata": {
        "tags": [],
        "colab": {
          "base_uri": "https://localhost:8080/"
        },
        "id": "c9b8c6ac-6a73-46ca-b306-6489038f2cb5",
        "outputId": "f2f01cde-7a8c-4628-e781-949a12f3d82f"
      },
      "outputs": [
        {
          "output_type": "stream",
          "name": "stdout",
          "text": [
            "180 45\n"
          ]
        }
      ],
      "source": [
        "import random\n",
        "\n",
        "dataset = dataset.shuffle(buffer_size = dataset_size)\n",
        "\n",
        "val_size  = int(dataset_size * 0.2)\n",
        "\n",
        "val = dataset.take(val_size)\n",
        "train = dataset.skip(val_size).take(dataset_size - val_size)\n",
        "\n",
        "#check size of training and validation sets\n",
        "print(len(train), len(val))"
      ]
    },
    {
      "cell_type": "markdown",
      "source": [
        "# Base Model"
      ],
      "metadata": {
        "id": "6EuiI3JilxrY"
      },
      "id": "6EuiI3JilxrY"
    },
    {
      "cell_type": "code",
      "execution_count": 10,
      "id": "9239ed45-bf2d-46e1-9c8a-2279ed2fa63e",
      "metadata": {
        "tags": [],
        "colab": {
          "base_uri": "https://localhost:8080/"
        },
        "id": "9239ed45-bf2d-46e1-9c8a-2279ed2fa63e",
        "outputId": "b310d484-beac-404a-e3a3-b547fd655b6a"
      },
      "outputs": [
        {
          "output_type": "stream",
          "name": "stdout",
          "text": [
            "9401 fake and 8548 real\n",
            "total sample is 17949\n",
            "Our base rate of fake articles is 52.37617694579085%\n"
          ]
        }
      ],
      "source": [
        "\n",
        "labels_iterator= train.unbatch().map(lambda input, output: output).as_numpy_iterator()\n",
        "fake = 0\n",
        "real = 0\n",
        "for i in labels_iterator:\n",
        "    if i['fake'] == 1:\n",
        "        fake +=1\n",
        "    else:\n",
        "        real +=1\n",
        "print(f\"{fake} fake and {real} real\")\n",
        "print(f\"total sample is {real + fake}\")\n",
        "print(f\"Our base rate of fake articles is {fake*100/(fake+real)}%\")"
      ]
    },
    {
      "cell_type": "markdown",
      "source": [
        "# Create Models\n",
        "\n",
        "We will create 3 models, one using only the title, one using only the text, and one that combines both"
      ],
      "metadata": {
        "id": "JUPBDhrCmMAG"
      },
      "id": "JUPBDhrCmMAG"
    },
    {
      "cell_type": "code",
      "execution_count": 11,
      "id": "d6e5f9a5-6521-4ac8-8087-532a2fb64ae4",
      "metadata": {
        "tags": [],
        "id": "d6e5f9a5-6521-4ac8-8087-532a2fb64ae4"
      },
      "outputs": [],
      "source": [
        "from tensorflow.keras.layers.experimental.preprocessing import TextVectorization\n",
        "from tensorflow.keras.layers.experimental.preprocessing import StringLookup\n",
        "\n",
        "import re\n",
        "import string\n",
        "\n"
      ]
    },
    {
      "cell_type": "markdown",
      "source": [
        "We prepare a vectorization layer with standardization for both title and vector."
      ],
      "metadata": {
        "id": "2tHJxoD4mQ31"
      },
      "id": "2tHJxoD4mQ31"
    },
    {
      "cell_type": "code",
      "execution_count": 12,
      "id": "f731a94b-8936-4b94-887a-dda006b207b9",
      "metadata": {
        "tags": [],
        "id": "f731a94b-8936-4b94-887a-dda006b207b9"
      },
      "outputs": [],
      "source": [
        "#preparing a text vectorization layer for tf model\n",
        "size_vocabulary = 2000\n",
        "\n",
        "def standardization(input_data):\n",
        "    lowercase = tf.strings.lower(input_data)\n",
        "    no_punctuation = tf.strings.regex_replace(lowercase,\n",
        "                                  '[%s]' % re.escape(string.punctuation),'')\n",
        "    return no_punctuation\n",
        "\n",
        "title_vectorize_layer = TextVectorization(\n",
        "    standardize=standardization,\n",
        "    max_tokens=size_vocabulary, # only consider this many words\n",
        "    output_mode='int',\n",
        "    output_sequence_length=500)\n",
        "\n",
        "title_vectorize_layer.adapt(train.map(lambda x, y: x[\"title\"]))\n",
        "\n",
        "\n",
        "text_vectorize_layer = TextVectorization(\n",
        "    standardize=standardization,\n",
        "    max_tokens=size_vocabulary, # only consider this many words\n",
        "    output_mode='int',\n",
        "    output_sequence_length=500)\n",
        "\n",
        "text_vectorize_layer.adapt(train.map(lambda x, y: x[\"title\"]))"
      ]
    },
    {
      "cell_type": "markdown",
      "source": [
        "### Model 1: Title\n",
        "\n",
        "All models in this will require:\n",
        "  an input: what will be inputted into the model\n",
        "  model features: what features will be used to make an output\n",
        "  an output: the classes which an output could be\n",
        "\n",
        "\n",
        "First, we make our Input. In this case, it will be \"titles\" in string form\n",
        "\n"
      ],
      "metadata": {
        "id": "hvrcbJwhmk9n"
      },
      "id": "hvrcbJwhmk9n"
    },
    {
      "cell_type": "code",
      "execution_count": 13,
      "id": "bf000183-784f-4041-8494-ac80fd3ecfc8",
      "metadata": {
        "id": "bf000183-784f-4041-8494-ac80fd3ecfc8"
      },
      "outputs": [],
      "source": [
        "# inputs\n",
        "\n",
        "title_input = keras.Input(\n",
        "    shape = (1,),\n",
        "    name = \"title\",\n",
        "    dtype = \"string\"\n",
        ")"
      ]
    },
    {
      "cell_type": "markdown",
      "source": [
        "These will be the layers we will be using in our model"
      ],
      "metadata": {
        "id": "wDG3H5tRnF5h"
      },
      "id": "wDG3H5tRnF5h"
    },
    {
      "cell_type": "code",
      "execution_count": 14,
      "id": "a402a915-09eb-414d-b3d0-b126dff6a2f7",
      "metadata": {
        "tags": [],
        "id": "a402a915-09eb-414d-b3d0-b126dff6a2f7"
      },
      "outputs": [],
      "source": [
        "title_features = title_vectorize_layer(title_input)\n",
        "title_features = layers.Embedding(size_vocabulary, 3, name = \"embedding1\")(title_features)\n",
        "title_features = layers.Dropout(0.2)(title_features)\n",
        "title_features = layers.GlobalAveragePooling1D()(title_features)\n",
        "title_features = layers.Dropout(0.2)(title_features)\n",
        "title_features = layers.Dense(32, activation='relu')(title_features)"
      ]
    },
    {
      "cell_type": "markdown",
      "source": [
        "finally, this is our output layer: 2 classes, fake or not fake as a function of **title_features**\n"
      ],
      "metadata": {
        "id": "ZyC_xOejnJqM"
      },
      "id": "ZyC_xOejnJqM"
    },
    {
      "cell_type": "code",
      "execution_count": 15,
      "id": "4925dfab-2b91-4664-aadb-31e415599bee",
      "metadata": {
        "id": "4925dfab-2b91-4664-aadb-31e415599bee"
      },
      "outputs": [],
      "source": [
        "output = layers.Dense(2, name = \"fake\")(title_features)"
      ]
    },
    {
      "cell_type": "markdown",
      "source": [
        "We put these together to make our first model"
      ],
      "metadata": {
        "id": "PNQ5Hj94nPZC"
      },
      "id": "PNQ5Hj94nPZC"
    },
    {
      "cell_type": "code",
      "source": [
        "model1 = keras.Model(\n",
        "    inputs = title_input,\n",
        "    outputs = output\n",
        ")"
      ],
      "metadata": {
        "id": "VvrOoXIWU8g-"
      },
      "id": "VvrOoXIWU8g-",
      "execution_count": 16,
      "outputs": []
    },
    {
      "cell_type": "markdown",
      "source": [
        "We can see using the **summary** method what layers will be used"
      ],
      "metadata": {
        "id": "3NSGnfhynY0r"
      },
      "id": "3NSGnfhynY0r"
    },
    {
      "cell_type": "code",
      "source": [
        "model1.summary()"
      ],
      "metadata": {
        "colab": {
          "base_uri": "https://localhost:8080/"
        },
        "id": "QYiMmdAlVFSc",
        "outputId": "f00da707-1c27-44e8-aa67-ebb401c2b3f7"
      },
      "id": "QYiMmdAlVFSc",
      "execution_count": 17,
      "outputs": [
        {
          "output_type": "stream",
          "name": "stdout",
          "text": [
            "Model: \"model\"\n",
            "_________________________________________________________________\n",
            " Layer (type)                Output Shape              Param #   \n",
            "=================================================================\n",
            " title (InputLayer)          [(None, 1)]               0         \n",
            "                                                                 \n",
            " text_vectorization (TextVe  (None, 500)               0         \n",
            " ctorization)                                                    \n",
            "                                                                 \n",
            " embedding1 (Embedding)      (None, 500, 3)            6000      \n",
            "                                                                 \n",
            " dropout (Dropout)           (None, 500, 3)            0         \n",
            "                                                                 \n",
            " global_average_pooling1d (  (None, 3)                 0         \n",
            " GlobalAveragePooling1D)                                         \n",
            "                                                                 \n",
            " dropout_1 (Dropout)         (None, 3)                 0         \n",
            "                                                                 \n",
            " dense (Dense)               (None, 32)                128       \n",
            "                                                                 \n",
            " fake (Dense)                (None, 2)                 66        \n",
            "                                                                 \n",
            "=================================================================\n",
            "Total params: 6194 (24.20 KB)\n",
            "Trainable params: 6194 (24.20 KB)\n",
            "Non-trainable params: 0 (0.00 Byte)\n",
            "_________________________________________________________________\n"
          ]
        }
      ]
    },
    {
      "cell_type": "markdown",
      "source": [
        "Here is an alternative visualization of the layers in order"
      ],
      "metadata": {
        "id": "lYBu_o50neMO"
      },
      "id": "lYBu_o50neMO"
    },
    {
      "cell_type": "code",
      "execution_count": 18,
      "id": "df65fba0-6a99-4321-9ed6-f0ffc7a60784",
      "metadata": {
        "id": "df65fba0-6a99-4321-9ed6-f0ffc7a60784",
        "colab": {
          "base_uri": "https://localhost:8080/",
          "height": 758
        },
        "outputId": "4691ecd2-afc2-4674-c34f-c29de554a135"
      },
      "outputs": [
        {
          "output_type": "execute_result",
          "data": {
            "image/png": "[encoded data removed]",
            "text/plain": [
              "<IPython.core.display.Image object>"
            ]
          },
          "metadata": {},
          "execution_count": 18
        }
      ],
      "source": [
        "from tensorflow.keras import utils\n",
        "utils.plot_model(model1)"
      ]
    },
    {
      "cell_type": "markdown",
      "source": [
        "Finally, we compile and then fit our model based on accuracy."
      ],
      "metadata": {
        "id": "qYj1Vk6dnicN"
      },
      "id": "qYj1Vk6dnicN"
    },
    {
      "cell_type": "code",
      "source": [
        "model1.compile(optimizer = \"adam\",\n",
        "              loss = losses.SparseCategoricalCrossentropy(from_logits=True),\n",
        "              metrics=['accuracy']\n",
        ")\n"
      ],
      "metadata": {
        "id": "3PYX69RaVRgl"
      },
      "id": "3PYX69RaVRgl",
      "execution_count": 19,
      "outputs": []
    },
    {
      "cell_type": "code",
      "source": [
        "history1 = model1.fit(train, validation_data=val, epochs=20)"
      ],
      "metadata": {
        "colab": {
          "base_uri": "https://localhost:8080/"
        },
        "id": "jz9oKYyCVb0z",
        "outputId": "b7b812e0-13ec-49b8-b2e8-ad0b59be7594"
      },
      "id": "jz9oKYyCVb0z",
      "execution_count": 20,
      "outputs": [
        {
          "output_type": "stream",
          "name": "stdout",
          "text": [
            "Epoch 1/20\n"
          ]
        },
        {
          "output_type": "stream",
          "name": "stderr",
          "text": [
            "/usr/local/lib/python3.10/dist-packages/keras/src/engine/functional.py:642: UserWarning: Input dict contained keys ['text'] which did not match any model input. They will be ignored by the model.\n",
            "  inputs = self._flatten_to_reference_inputs(inputs)\n"
          ]
        },
        {
          "output_type": "stream",
          "name": "stdout",
          "text": [
            "180/180 [==============================] - 19s 72ms/step - loss: 0.6919 - accuracy: 0.5218 - val_loss: 0.6909 - val_accuracy: 0.5211\n",
            "Epoch 2/20\n",
            "180/180 [==============================] - 2s 8ms/step - loss: 0.6846 - accuracy: 0.5450 - val_loss: 0.6722 - val_accuracy: 0.5249\n",
            "Epoch 3/20\n",
            "180/180 [==============================] - 1s 6ms/step - loss: 0.6317 - accuracy: 0.7700 - val_loss: 0.5688 - val_accuracy: 0.9029\n",
            "Epoch 4/20\n",
            "180/180 [==============================] - 1s 6ms/step - loss: 0.4880 - accuracy: 0.9006 - val_loss: 0.3978 - val_accuracy: 0.9296\n",
            "Epoch 5/20\n",
            "180/180 [==============================] - 1s 6ms/step - loss: 0.3447 - accuracy: 0.9289 - val_loss: 0.2758 - val_accuracy: 0.9411\n",
            "Epoch 6/20\n",
            "180/180 [==============================] - 1s 6ms/step - loss: 0.2577 - accuracy: 0.9401 - val_loss: 0.2075 - val_accuracy: 0.9528\n",
            "Epoch 7/20\n",
            "180/180 [==============================] - 1s 6ms/step - loss: 0.2056 - accuracy: 0.9480 - val_loss: 0.1598 - val_accuracy: 0.9622\n",
            "Epoch 8/20\n",
            "180/180 [==============================] - 1s 8ms/step - loss: 0.1709 - accuracy: 0.9541 - val_loss: 0.1290 - val_accuracy: 0.9682\n",
            "Epoch 9/20\n",
            "180/180 [==============================] - 2s 9ms/step - loss: 0.1495 - accuracy: 0.9602 - val_loss: 0.1149 - val_accuracy: 0.9673\n",
            "Epoch 10/20\n",
            "180/180 [==============================] - 1s 6ms/step - loss: 0.1320 - accuracy: 0.9624 - val_loss: 0.1051 - val_accuracy: 0.9682\n",
            "Epoch 11/20\n",
            "180/180 [==============================] - 1s 6ms/step - loss: 0.1199 - accuracy: 0.9652 - val_loss: 0.0883 - val_accuracy: 0.9769\n",
            "Epoch 12/20\n",
            "180/180 [==============================] - 1s 6ms/step - loss: 0.1083 - accuracy: 0.9669 - val_loss: 0.0771 - val_accuracy: 0.9793\n",
            "Epoch 13/20\n",
            "180/180 [==============================] - 1s 6ms/step - loss: 0.1025 - accuracy: 0.9683 - val_loss: 0.0817 - val_accuracy: 0.9729\n",
            "Epoch 14/20\n",
            "180/180 [==============================] - 1s 6ms/step - loss: 0.0954 - accuracy: 0.9706 - val_loss: 0.0689 - val_accuracy: 0.9771\n",
            "Epoch 15/20\n",
            "180/180 [==============================] - 1s 6ms/step - loss: 0.0900 - accuracy: 0.9708 - val_loss: 0.0646 - val_accuracy: 0.9836\n",
            "Epoch 16/20\n",
            "180/180 [==============================] - 1s 6ms/step - loss: 0.0835 - accuracy: 0.9719 - val_loss: 0.0756 - val_accuracy: 0.9709\n",
            "Epoch 17/20\n",
            "180/180 [==============================] - 1s 6ms/step - loss: 0.0793 - accuracy: 0.9736 - val_loss: 0.0641 - val_accuracy: 0.9809\n",
            "Epoch 18/20\n",
            "180/180 [==============================] - 1s 6ms/step - loss: 0.0797 - accuracy: 0.9733 - val_loss: 0.0579 - val_accuracy: 0.9807\n",
            "Epoch 19/20\n",
            "180/180 [==============================] - 2s 9ms/step - loss: 0.0723 - accuracy: 0.9752 - val_loss: 0.0582 - val_accuracy: 0.9827\n",
            "Epoch 20/20\n",
            "180/180 [==============================] - 1s 7ms/step - loss: 0.0715 - accuracy: 0.9749 - val_loss: 0.0478 - val_accuracy: 0.9864\n"
          ]
        }
      ]
    },
    {
      "cell_type": "markdown",
      "source": [
        "Now that the model is finished, lets plot our results"
      ],
      "metadata": {
        "id": "tK63EZ32nruO"
      },
      "id": "tK63EZ32nruO"
    },
    {
      "cell_type": "code",
      "source": [
        "from matplotlib import pyplot as plt\n",
        "plt.plot(history1.history[\"accuracy\"],label='training')\n",
        "plt.plot(history1.history[\"val_accuracy\"],label='validation')\n",
        "plt.legend()"
      ],
      "metadata": {
        "colab": {
          "base_uri": "https://localhost:8080/",
          "height": 447
        },
        "id": "whGZtNH-WBLK",
        "outputId": "d0e215d7-fe81-433c-8148-306ebcb8e149"
      },
      "id": "whGZtNH-WBLK",
      "execution_count": 21,
      "outputs": [
        {
          "output_type": "execute_result",
          "data": {
            "text/plain": [
              "<matplotlib.legend.Legend at 0x79ebc12fa860>"
            ]
          },
          "metadata": {},
          "execution_count": 21
        },
        {
          "output_type": "display_data",
          "data": {
            "text/plain": [
              "<Figure size 640x480 with 1 Axes>"
            ],
            "image/png": "[encoded data removed]"
          },
          "metadata": {}
        }
      ]
    },
    {
      "cell_type": "markdown",
      "source": [
        "It seems like we are around 97% accurate, with both the validation and actual accuracy around the same. This is pretty good with just the title."
      ],
      "metadata": {
        "id": "wuYDH_kwnu8m"
      },
      "id": "wuYDH_kwnu8m"
    },
    {
      "cell_type": "markdown",
      "source": [
        "### Model2: Text\n",
        "\n",
        "This model will be made the exact same way, with the only difference being the input with \"text\" instead of \"title\""
      ],
      "metadata": {
        "id": "u8ZJzXl5n_EX"
      },
      "id": "u8ZJzXl5n_EX"
    },
    {
      "cell_type": "code",
      "execution_count": 22,
      "id": "c88ca1c9-2d5f-407e-b9da-305cc51fd3f4",
      "metadata": {
        "id": "c88ca1c9-2d5f-407e-b9da-305cc51fd3f4",
        "colab": {
          "base_uri": "https://localhost:8080/"
        },
        "outputId": "995cd1bc-dd23-410d-eff1-fb647b0dc642"
      },
      "outputs": [
        {
          "output_type": "stream",
          "name": "stdout",
          "text": [
            "Model: \"model_1\"\n",
            "_________________________________________________________________\n",
            " Layer (type)                Output Shape              Param #   \n",
            "=================================================================\n",
            " text (InputLayer)           [(None, 1)]               0         \n",
            "                                                                 \n",
            " text_vectorization_1 (Text  (None, 500)               0         \n",
            " Vectorization)                                                  \n",
            "                                                                 \n",
            " embedding2 (Embedding)      (None, 500, 3)            6000      \n",
            "                                                                 \n",
            " dropout_2 (Dropout)         (None, 500, 3)            0         \n",
            "                                                                 \n",
            " global_average_pooling1d_1  (None, 3)                 0         \n",
            "  (GlobalAveragePooling1D)                                       \n",
            "                                                                 \n",
            " dropout_3 (Dropout)         (None, 3)                 0         \n",
            "                                                                 \n",
            " dense_1 (Dense)             (None, 32)                128       \n",
            "                                                                 \n",
            " fake (Dense)                (None, 2)                 66        \n",
            "                                                                 \n",
            "=================================================================\n",
            "Total params: 6194 (24.20 KB)\n",
            "Trainable params: 6194 (24.20 KB)\n",
            "Non-trainable params: 0 (0.00 Byte)\n",
            "_________________________________________________________________\n"
          ]
        }
      ],
      "source": [
        "\n",
        "text_input = keras.Input(\n",
        "    shape = (1,),\n",
        "    name = \"text\",\n",
        "    dtype = \"string\"\n",
        ")\n",
        "\n",
        "text_features = text_vectorize_layer(text_input)\n",
        "text_features = layers.Embedding(size_vocabulary, 3, name = \"embedding2\")(text_features)\n",
        "text_features = layers.Dropout(0.2)(text_features)\n",
        "text_features = layers.GlobalAveragePooling1D()(text_features)\n",
        "text_features = layers.Dropout(0.2)(text_features)\n",
        "text_features = layers.Dense(32, activation='relu')(text_features)\n",
        "output = layers.Dense(2, name = \"fake\")(text_features)\n",
        "\n",
        "\n",
        "\n",
        "model2 = keras.Model(\n",
        "    inputs = text_input,\n",
        "    outputs = output\n",
        ")\n",
        "\n",
        "model2.summary()"
      ]
    },
    {
      "cell_type": "code",
      "execution_count": 23,
      "id": "8d1940c3-8c9a-4a65-8413-629aba7d5d16",
      "metadata": {
        "id": "8d1940c3-8c9a-4a65-8413-629aba7d5d16",
        "colab": {
          "base_uri": "https://localhost:8080/",
          "height": 758
        },
        "outputId": "8da1f35a-5146-4982-f554-9aae4450965b"
      },
      "outputs": [
        {
          "output_type": "execute_result",
          "data": {
            "image/png": "[encoded data removed]",
            "text/plain": [
              "<IPython.core.display.Image object>"
            ]
          },
          "metadata": {},
          "execution_count": 23
        }
      ],
      "source": [
        "utils.plot_model(model2)"
      ]
    },
    {
      "cell_type": "code",
      "source": [
        "model2.compile(optimizer = \"adam\",\n",
        "              loss = losses.SparseCategoricalCrossentropy(from_logits=True),\n",
        "              metrics=['accuracy']\n",
        ")\n"
      ],
      "metadata": {
        "id": "2O2gEsIdXPpP"
      },
      "id": "2O2gEsIdXPpP",
      "execution_count": 24,
      "outputs": []
    },
    {
      "cell_type": "code",
      "source": [
        "history2 = model2.fit(train, validation_data=val, epochs=20)"
      ],
      "metadata": {
        "colab": {
          "base_uri": "https://localhost:8080/"
        },
        "id": "68rtJNjJXLtR",
        "outputId": "f0ab83fc-3fcd-44e8-e004-7ba62a6a77a2"
      },
      "id": "68rtJNjJXLtR",
      "execution_count": 25,
      "outputs": [
        {
          "output_type": "stream",
          "name": "stdout",
          "text": [
            "Epoch 1/20\n"
          ]
        },
        {
          "output_type": "stream",
          "name": "stderr",
          "text": [
            "/usr/local/lib/python3.10/dist-packages/keras/src/engine/functional.py:642: UserWarning: Input dict contained keys ['title'] which did not match any model input. They will be ignored by the model.\n",
            "  inputs = self._flatten_to_reference_inputs(inputs)\n"
          ]
        },
        {
          "output_type": "stream",
          "name": "stdout",
          "text": [
            "180/180 [==============================] - 16s 82ms/step - loss: 0.6785 - accuracy: 0.5607 - val_loss: 0.6310 - val_accuracy: 0.6409\n",
            "Epoch 2/20\n",
            "180/180 [==============================] - 6s 32ms/step - loss: 0.4957 - accuracy: 0.8665 - val_loss: 0.3523 - val_accuracy: 0.9107\n",
            "Epoch 3/20\n",
            "180/180 [==============================] - 4s 20ms/step - loss: 0.2938 - accuracy: 0.9227 - val_loss: 0.2294 - val_accuracy: 0.9433\n",
            "Epoch 4/20\n",
            "180/180 [==============================] - 2s 11ms/step - loss: 0.2174 - accuracy: 0.9442 - val_loss: 0.1841 - val_accuracy: 0.9509\n",
            "Epoch 5/20\n",
            "180/180 [==============================] - 2s 11ms/step - loss: 0.1806 - accuracy: 0.9542 - val_loss: 0.1487 - val_accuracy: 0.9620\n",
            "Epoch 6/20\n",
            "180/180 [==============================] - 2s 12ms/step - loss: 0.1573 - accuracy: 0.9578 - val_loss: 0.1309 - val_accuracy: 0.9644\n",
            "Epoch 7/20\n",
            "180/180 [==============================] - 2s 12ms/step - loss: 0.1405 - accuracy: 0.9616 - val_loss: 0.1105 - val_accuracy: 0.9733\n",
            "Epoch 8/20\n",
            "180/180 [==============================] - 3s 19ms/step - loss: 0.1309 - accuracy: 0.9628 - val_loss: 0.1057 - val_accuracy: 0.9736\n",
            "Epoch 9/20\n",
            "180/180 [==============================] - 2s 11ms/step - loss: 0.1201 - accuracy: 0.9665 - val_loss: 0.1057 - val_accuracy: 0.9729\n",
            "Epoch 10/20\n",
            "180/180 [==============================] - 2s 12ms/step - loss: 0.1149 - accuracy: 0.9685 - val_loss: 0.0851 - val_accuracy: 0.9753\n",
            "Epoch 11/20\n",
            "180/180 [==============================] - 2s 11ms/step - loss: 0.1079 - accuracy: 0.9691 - val_loss: 0.0901 - val_accuracy: 0.9749\n",
            "Epoch 12/20\n",
            "180/180 [==============================] - 2s 13ms/step - loss: 0.1019 - accuracy: 0.9718 - val_loss: 0.0761 - val_accuracy: 0.9811\n",
            "Epoch 13/20\n",
            "180/180 [==============================] - 4s 20ms/step - loss: 0.0964 - accuracy: 0.9718 - val_loss: 0.0775 - val_accuracy: 0.9834\n",
            "Epoch 14/20\n",
            "180/180 [==============================] - 2s 12ms/step - loss: 0.0961 - accuracy: 0.9720 - val_loss: 0.0679 - val_accuracy: 0.9796\n",
            "Epoch 15/20\n",
            "180/180 [==============================] - 2s 12ms/step - loss: 0.0892 - accuracy: 0.9728 - val_loss: 0.0690 - val_accuracy: 0.9800\n",
            "Epoch 16/20\n",
            "180/180 [==============================] - 2s 12ms/step - loss: 0.0886 - accuracy: 0.9739 - val_loss: 0.0711 - val_accuracy: 0.9787\n",
            "Epoch 17/20\n",
            "180/180 [==============================] - 3s 16ms/step - loss: 0.0851 - accuracy: 0.9757 - val_loss: 0.0651 - val_accuracy: 0.9827\n",
            "Epoch 18/20\n",
            "180/180 [==============================] - 3s 18ms/step - loss: 0.0772 - accuracy: 0.9774 - val_loss: 0.0564 - val_accuracy: 0.9853\n",
            "Epoch 19/20\n",
            "180/180 [==============================] - 2s 12ms/step - loss: 0.0766 - accuracy: 0.9768 - val_loss: 0.0588 - val_accuracy: 0.9849\n",
            "Epoch 20/20\n",
            "180/180 [==============================] - 2s 13ms/step - loss: 0.0767 - accuracy: 0.9747 - val_loss: 0.0660 - val_accuracy: 0.9833\n"
          ]
        }
      ]
    },
    {
      "cell_type": "code",
      "source": [
        "plt.plot(history2.history[\"accuracy\"],label='training')\n",
        "plt.plot(history2.history[\"val_accuracy\"],label='validation')\n",
        "plt.legend()"
      ],
      "metadata": {
        "colab": {
          "base_uri": "https://localhost:8080/",
          "height": 447
        },
        "id": "JhIvczOfW7wL",
        "outputId": "f1878a44-a0a0-49c3-fe6b-64fbe5e6c423"
      },
      "id": "JhIvczOfW7wL",
      "execution_count": 26,
      "outputs": [
        {
          "output_type": "execute_result",
          "data": {
            "text/plain": [
              "<matplotlib.legend.Legend at 0x79eb68502590>"
            ]
          },
          "metadata": {},
          "execution_count": 26
        },
        {
          "output_type": "display_data",
          "data": {
            "text/plain": [
              "<Figure size 640x480 with 1 Axes>"
            ],
            "image/png": "[encoded data removed]"
          },
          "metadata": {}
        }
      ]
    },
    {
      "cell_type": "markdown",
      "source": [
        "After running the model, it similar to slightly better than the title model. Still, the validation and training accuracies are rather similar."
      ],
      "metadata": {
        "id": "MKA3Ux4toUPD"
      },
      "id": "MKA3Ux4toUPD"
    },
    {
      "cell_type": "markdown",
      "source": [
        "# Model 3: Combined text and title"
      ],
      "metadata": {
        "id": "x1l-XnCLXjVj"
      },
      "id": "x1l-XnCLXjVj"
    },
    {
      "cell_type": "markdown",
      "source": [
        "This time, we will combine our layers from model1 and model2 using the **concatenate** method. Then we will repeat the proceess once more.\n"
      ],
      "metadata": {
        "id": "dONzwoKkog49"
      },
      "id": "dONzwoKkog49"
    },
    {
      "cell_type": "code",
      "source": [
        "combined = layers.concatenate([title_features, text_features], axis = 1)\n",
        "combined = layers.Dense(4, activation='relu')(combined)\n",
        "output = layers.Dense(4, name=\"fake\")(combined)"
      ],
      "metadata": {
        "id": "NcMgWsNpW9_P"
      },
      "id": "NcMgWsNpW9_P",
      "execution_count": 27,
      "outputs": []
    },
    {
      "cell_type": "code",
      "source": [
        "model3 = keras.Model(\n",
        "    inputs = [title_input, text_input],\n",
        "    outputs = output\n",
        ")\n",
        "model3.summary()\n",
        "utils.plot_model(model2)\n",
        "model3.compile(optimizer=\"adam\",\n",
        "              loss = losses.SparseCategoricalCrossentropy(from_logits=True),\n",
        "              metrics=[\"accuracy\"])\n",
        "history3 = model3.fit(train, validation_data=val, epochs=20)"
      ],
      "metadata": {
        "colab": {
          "base_uri": "https://localhost:8080/"
        },
        "id": "tMKPbRa-Xo2Z",
        "outputId": "3ca9f692-8880-4323-b039-7bffae71d2d6"
      },
      "id": "tMKPbRa-Xo2Z",
      "execution_count": 28,
      "outputs": [
        {
          "output_type": "stream",
          "name": "stdout",
          "text": [
            "Model: \"model_2\"\n",
            "__________________________________________________________________________________________________\n",
            " Layer (type)                Output Shape                 Param #   Connected to                  \n",
            "==================================================================================================\n",
            " title (InputLayer)          [(None, 1)]                  0         []                            \n",
            "                                                                                                  \n",
            " text (InputLayer)           [(None, 1)]                  0         []                            \n",
            "                                                                                                  \n",
            " text_vectorization (TextVe  (None, 500)                  0         ['title[0][0]']               \n",
            " ctorization)                                                                                     \n",
            "                                                                                                  \n",
            " text_vectorization_1 (Text  (None, 500)                  0         ['text[0][0]']                \n",
            " Vectorization)                                                                                   \n",
            "                                                                                                  \n",
            " embedding1 (Embedding)      (None, 500, 3)               6000      ['text_vectorization[0][0]']  \n",
            "                                                                                                  \n",
            " embedding2 (Embedding)      (None, 500, 3)               6000      ['text_vectorization_1[0][0]']\n",
            "                                                                                                  \n",
            " dropout (Dropout)           (None, 500, 3)               0         ['embedding1[0][0]']          \n",
            "                                                                                                  \n",
            " dropout_2 (Dropout)         (None, 500, 3)               0         ['embedding2[0][0]']          \n",
            "                                                                                                  \n",
            " global_average_pooling1d (  (None, 3)                    0         ['dropout[0][0]']             \n",
            " GlobalAveragePooling1D)                                                                          \n",
            "                                                                                                  \n",
            " global_average_pooling1d_1  (None, 3)                    0         ['dropout_2[0][0]']           \n",
            "  (GlobalAveragePooling1D)                                                                        \n",
            "                                                                                                  \n",
            " dropout_1 (Dropout)         (None, 3)                    0         ['global_average_pooling1d[0][\n",
            "                                                                    0]']                          \n",
            "                                                                                                  \n",
            " dropout_3 (Dropout)         (None, 3)                    0         ['global_average_pooling1d_1[0\n",
            "                                                                    ][0]']                        \n",
            "                                                                                                  \n",
            " dense (Dense)               (None, 32)                   128       ['dropout_1[0][0]']           \n",
            "                                                                                                  \n",
            " dense_1 (Dense)             (None, 32)                   128       ['dropout_3[0][0]']           \n",
            "                                                                                                  \n",
            " concatenate (Concatenate)   (None, 64)                   0         ['dense[0][0]',               \n",
            "                                                                     'dense_1[0][0]']             \n",
            "                                                                                                  \n",
            " dense_2 (Dense)             (None, 4)                    260       ['concatenate[0][0]']         \n",
            "                                                                                                  \n",
            " fake (Dense)                (None, 4)                    20        ['dense_2[0][0]']             \n",
            "                                                                                                  \n",
            "==================================================================================================\n",
            "Total params: 12536 (48.97 KB)\n",
            "Trainable params: 12536 (48.97 KB)\n",
            "Non-trainable params: 0 (0.00 Byte)\n",
            "__________________________________________________________________________________________________\n",
            "Epoch 1/20\n",
            "180/180 [==============================] - 20s 102ms/step - loss: 0.7350 - accuracy: 0.7870 - val_loss: 0.2261 - val_accuracy: 0.9836\n",
            "Epoch 2/20\n",
            "180/180 [==============================] - 4s 21ms/step - loss: 0.1715 - accuracy: 0.9634 - val_loss: 0.0960 - val_accuracy: 0.9874\n",
            "Epoch 3/20\n",
            "180/180 [==============================] - 3s 14ms/step - loss: 0.1058 - accuracy: 0.9721 - val_loss: 0.0728 - val_accuracy: 0.9858\n",
            "Epoch 4/20\n",
            "180/180 [==============================] - 3s 14ms/step - loss: 0.0873 - accuracy: 0.9758 - val_loss: 0.0662 - val_accuracy: 0.9833\n",
            "Epoch 5/20\n",
            "180/180 [==============================] - 3s 15ms/step - loss: 0.0757 - accuracy: 0.9781 - val_loss: 0.0564 - val_accuracy: 0.9858\n",
            "Epoch 6/20\n",
            "180/180 [==============================] - 5s 26ms/step - loss: 0.0710 - accuracy: 0.9797 - val_loss: 0.0483 - val_accuracy: 0.9876\n",
            "Epoch 7/20\n",
            "180/180 [==============================] - 3s 14ms/step - loss: 0.0621 - accuracy: 0.9826 - val_loss: 0.0438 - val_accuracy: 0.9894\n",
            "Epoch 8/20\n",
            "180/180 [==============================] - 3s 15ms/step - loss: 0.0536 - accuracy: 0.9854 - val_loss: 0.0357 - val_accuracy: 0.9924\n",
            "Epoch 9/20\n",
            "180/180 [==============================] - 3s 14ms/step - loss: 0.0460 - accuracy: 0.9879 - val_loss: 0.0278 - val_accuracy: 0.9936\n",
            "Epoch 10/20\n",
            "180/180 [==============================] - 4s 20ms/step - loss: 0.0292 - accuracy: 0.9926 - val_loss: 0.0197 - val_accuracy: 0.9953\n",
            "Epoch 11/20\n",
            "180/180 [==============================] - 3s 18ms/step - loss: 0.0219 - accuracy: 0.9939 - val_loss: 0.0103 - val_accuracy: 0.9976\n",
            "Epoch 12/20\n",
            "180/180 [==============================] - 3s 15ms/step - loss: 0.0204 - accuracy: 0.9943 - val_loss: 0.0101 - val_accuracy: 0.9978\n",
            "Epoch 13/20\n",
            "180/180 [==============================] - 3s 15ms/step - loss: 0.0164 - accuracy: 0.9949 - val_loss: 0.0080 - val_accuracy: 0.9976\n",
            "Epoch 14/20\n",
            "180/180 [==============================] - 3s 14ms/step - loss: 0.0158 - accuracy: 0.9951 - val_loss: 0.0078 - val_accuracy: 0.9978\n",
            "Epoch 15/20\n",
            "180/180 [==============================] - 5s 27ms/step - loss: 0.0151 - accuracy: 0.9956 - val_loss: 0.0067 - val_accuracy: 0.9987\n",
            "Epoch 16/20\n",
            "180/180 [==============================] - 3s 14ms/step - loss: 0.0129 - accuracy: 0.9966 - val_loss: 0.0071 - val_accuracy: 0.9982\n",
            "Epoch 17/20\n",
            "180/180 [==============================] - 3s 14ms/step - loss: 0.0121 - accuracy: 0.9968 - val_loss: 0.0051 - val_accuracy: 0.9984\n",
            "Epoch 18/20\n",
            "180/180 [==============================] - 3s 14ms/step - loss: 0.0117 - accuracy: 0.9961 - val_loss: 0.0048 - val_accuracy: 0.9991\n",
            "Epoch 19/20\n",
            "180/180 [==============================] - 4s 19ms/step - loss: 0.0115 - accuracy: 0.9962 - val_loss: 0.0047 - val_accuracy: 0.9984\n",
            "Epoch 20/20\n",
            "180/180 [==============================] - 3s 15ms/step - loss: 0.0119 - accuracy: 0.9959 - val_loss: 0.0045 - val_accuracy: 0.9993\n"
          ]
        }
      ]
    },
    {
      "cell_type": "code",
      "source": [
        "plt.plot(history3.history[\"accuracy\"],label='training')\n",
        "plt.plot(history3.history[\"val_accuracy\"],label='validation')\n",
        "plt.legend()"
      ],
      "metadata": {
        "colab": {
          "base_uri": "https://localhost:8080/",
          "height": 447
        },
        "id": "Yn0zMN0zYnZ6",
        "outputId": "60e76027-cd0c-44c9-ee66-53acde414ea6"
      },
      "id": "Yn0zMN0zYnZ6",
      "execution_count": 29,
      "outputs": [
        {
          "output_type": "execute_result",
          "data": {
            "text/plain": [
              "<matplotlib.legend.Legend at 0x79eb54042920>"
            ]
          },
          "metadata": {},
          "execution_count": 29
        },
        {
          "output_type": "display_data",
          "data": {
            "text/plain": [
              "<Figure size 640x480 with 1 Axes>"
            ],
            "image/png": "[encoded data removed]"
          },
          "metadata": {}
        }
      ]
    },
    {
      "cell_type": "markdown",
      "source": [
        "All 3 models have a very high score, of around 97-98%, however the model3, using both the text and title was most accurate, hovering at around 98%"
      ],
      "metadata": {
        "id": "bS6sa12Ka2Ui"
      },
      "id": "bS6sa12Ka2Ui"
    },
    {
      "cell_type": "markdown",
      "source": [
        "# Evaluate Model"
      ],
      "metadata": {
        "id": "JY-Ks3CnbHWR"
      },
      "id": "JY-Ks3CnbHWR"
    },
    {
      "cell_type": "markdown",
      "source": [
        "Now we test on a brand new dataset of articles to check how well our model performs."
      ],
      "metadata": {
        "id": "jXZk33pbo0r8"
      },
      "id": "jXZk33pbo0r8"
    },
    {
      "cell_type": "code",
      "source": [
        "test_url = \"https://github.com/PhilChodrow/PIC16b/blob/master/datasets/fake_news_test.csv?raw=true\"\n",
        "testData = pd.read_csv(test_url)\n",
        "testData"
      ],
      "metadata": {
        "colab": {
          "base_uri": "https://localhost:8080/",
          "height": 424
        },
        "id": "w0AB0titbG2B",
        "outputId": "1f00eb44-8aa6-45a0-a79a-1c81e425bb29"
      },
      "id": "w0AB0titbG2B",
      "execution_count": 30,
      "outputs": [
        {
          "output_type": "execute_result",
          "data": {
            "text/plain": [
              "       Unnamed: 0                                              title  \\\n",
              "0             420   CNN And MSNBC Destroy Trump, Black Out His Fa...   \n",
              "1           14902  Exclusive: Kremlin tells companies to deliver ...   \n",
              "2             322   Golden State Warriors Coach Just WRECKED Trum...   \n",
              "3           16108  Putin opens monument to Stalin's victims, diss...   \n",
              "4           10304  BREAKING: DNC HACKER FIRED For Bank Fraud…Blam...   \n",
              "...           ...                                                ...   \n",
              "22444       20058  U.S. will stand be steadfast ally to Britain a...   \n",
              "22445       21104  Trump rebukes South Korea after North Korean b...   \n",
              "22446        2842  New rule requires U.S. banks to allow consumer...   \n",
              "22447       22298  US Middle Class Still Suffering from Rockefell...   \n",
              "22448         333   Scaramucci TV Appearance Goes Off The Rails A...   \n",
              "\n",
              "                                                    text  fake  \n",
              "0      Donald Trump practically does something to cri...     1  \n",
              "1      The Kremlin wants good news.  The Russian lead...     0  \n",
              "2      On Saturday, the man we re forced to call  Pre...     1  \n",
              "3      President Vladimir Putin inaugurated a monumen...     0  \n",
              "4      Apparently breaking the law and scamming the g...     1  \n",
              "...                                                  ...   ...  \n",
              "22444  The United States will stand by Britain as it ...     0  \n",
              "22445  U.S. President Donald Trump admonished South K...     0  \n",
              "22446  U.S. banks and credit card companies could be ...     0  \n",
              "22447   Dick Eastman The Truth HoundWhen Henry Kissin...     1  \n",
              "22448  The most infamous characters from Donald Trump...     1  \n",
              "\n",
              "[22449 rows x 4 columns]"
            ],
            "text/html": [
              "\n",
              "  <div id=\"df-b93b397d-ddbc-411d-9a34-bf532fead33a\" class=\"colab-df-container\">\n",
              "    <div>\n",
              "<style scoped>\n",
              "    .dataframe tbody tr th:only-of-type {\n",
              "        vertical-align: middle;\n",
              "    }\n",
              "\n",
              "    .dataframe tbody tr th {\n",
              "        vertical-align: top;\n",
              "    }\n",
              "\n",
              "    .dataframe thead th {\n",
              "        text-align: right;\n",
              "    }\n",
              "</style>\n",
              "<table border=\"1\" class=\"dataframe\">\n",
              "  <thead>\n",
              "    <tr style=\"text-align: right;\">\n",
              "      <th></th>\n",
              "      <th>Unnamed: 0</th>\n",
              "      <th>title</th>\n",
              "      <th>text</th>\n",
              "      <th>fake</th>\n",
              "    </tr>\n",
              "  </thead>\n",
              "  <tbody>\n",
              "    <tr>\n",
              "      <th>0</th>\n",
              "      <td>420</td>\n",
              "      <td>CNN And MSNBC Destroy Trump, Black Out His Fa...</td>\n",
              "      <td>Donald Trump practically does something to cri...</td>\n",
              "      <td>1</td>\n",
              "    </tr>\n",
              "    <tr>\n",
              "      <th>1</th>\n",
              "      <td>14902</td>\n",
              "      <td>Exclusive: Kremlin tells companies to deliver ...</td>\n",
              "      <td>The Kremlin wants good news.  The Russian lead...</td>\n",
              "      <td>0</td>\n",
              "    </tr>\n",
              "    <tr>\n",
              "      <th>2</th>\n",
              "      <td>322</td>\n",
              "      <td>Golden State Warriors Coach Just WRECKED Trum...</td>\n",
              "      <td>On Saturday, the man we re forced to call  Pre...</td>\n",
              "      <td>1</td>\n",
              "    </tr>\n",
              "    <tr>\n",
              "      <th>3</th>\n",
              "      <td>16108</td>\n",
              "      <td>Putin opens monument to Stalin's victims, diss...</td>\n",
              "      <td>President Vladimir Putin inaugurated a monumen...</td>\n",
              "      <td>0</td>\n",
              "    </tr>\n",
              "    <tr>\n",
              "      <th>4</th>\n",
              "      <td>10304</td>\n",
              "      <td>BREAKING: DNC HACKER FIRED For Bank Fraud…Blam...</td>\n",
              "      <td>Apparently breaking the law and scamming the g...</td>\n",
              "      <td>1</td>\n",
              "    </tr>\n",
              "    <tr>\n",
              "      <th>...</th>\n",
              "      <td>...</td>\n",
              "      <td>...</td>\n",
              "      <td>...</td>\n",
              "      <td>...</td>\n",
              "    </tr>\n",
              "    <tr>\n",
              "      <th>22444</th>\n",
              "      <td>20058</td>\n",
              "      <td>U.S. will stand be steadfast ally to Britain a...</td>\n",
              "      <td>The United States will stand by Britain as it ...</td>\n",
              "      <td>0</td>\n",
              "    </tr>\n",
              "    <tr>\n",
              "      <th>22445</th>\n",
              "      <td>21104</td>\n",
              "      <td>Trump rebukes South Korea after North Korean b...</td>\n",
              "      <td>U.S. President Donald Trump admonished South K...</td>\n",
              "      <td>0</td>\n",
              "    </tr>\n",
              "    <tr>\n",
              "      <th>22446</th>\n",
              "      <td>2842</td>\n",
              "      <td>New rule requires U.S. banks to allow consumer...</td>\n",
              "      <td>U.S. banks and credit card companies could be ...</td>\n",
              "      <td>0</td>\n",
              "    </tr>\n",
              "    <tr>\n",
              "      <th>22447</th>\n",
              "      <td>22298</td>\n",
              "      <td>US Middle Class Still Suffering from Rockefell...</td>\n",
              "      <td>Dick Eastman The Truth HoundWhen Henry Kissin...</td>\n",
              "      <td>1</td>\n",
              "    </tr>\n",
              "    <tr>\n",
              "      <th>22448</th>\n",
              "      <td>333</td>\n",
              "      <td>Scaramucci TV Appearance Goes Off The Rails A...</td>\n",
              "      <td>The most infamous characters from Donald Trump...</td>\n",
              "      <td>1</td>\n",
              "    </tr>\n",
              "  </tbody>\n",
              "</table>\n",
              "<p>22449 rows × 4 columns</p>\n",
              "</div>\n",
              "    <div class=\"colab-df-buttons\">\n",
              "\n",
              "  <div class=\"colab-df-container\">\n",
              "    <button class=\"colab-df-convert\" onclick=\"convertToInteractive('df-b93b397d-ddbc-411d-9a34-bf532fead33a')\"\n",
              "            title=\"Convert this dataframe to an interactive table.\"\n",
              "            style=\"display:none;\">\n",
              "\n",
              "  <svg xmlns=\"http://www.w3.org/2000/svg\" height=\"24px\" viewBox=\"0 -960 960 960\">\n",
              "    <path d=\"M120-120v-720h720v720H120Zm60-500h600v-160H180v160Zm220 220h160v-160H400v160Zm0 220h160v-160H400v160ZM180-400h160v-160H180v160Zm440 0h160v-160H620v160ZM180-180h160v-160H180v160Zm440 0h160v-160H620v160Z\"/>\n",
              "  </svg>\n",
              "    </button>\n",
              "\n",
              "  <style>\n",
              "    .colab-df-container {\n",
              "      display:flex;\n",
              "      gap: 12px;\n",
              "    }\n",
              "\n",
              "    .colab-df-convert {\n",
              "      background-color: #E8F0FE;\n",
              "      border: none;\n",
              "      border-radius: 50%;\n",
              "      cursor: pointer;\n",
              "      display: none;\n",
              "      fill: #1967D2;\n",
              "      height: 32px;\n",
              "      padding: 0 0 0 0;\n",
              "      width: 32px;\n",
              "    }\n",
              "\n",
              "    .colab-df-convert:hover {\n",
              "      background-color: #E2EBFA;\n",
              "      box-shadow: 0px 1px 2px rgba(60, 64, 67, 0.3), 0px 1px 3px 1px rgba(60, 64, 67, 0.15);\n",
              "      fill: #174EA6;\n",
              "    }\n",
              "\n",
              "    .colab-df-buttons div {\n",
              "      margin-bottom: 4px;\n",
              "    }\n",
              "\n",
              "    [theme=dark] .colab-df-convert {\n",
              "      background-color: #3B4455;\n",
              "      fill: #D2E3FC;\n",
              "    }\n",
              "\n",
              "    [theme=dark] .colab-df-convert:hover {\n",
              "      background-color: #434B5C;\n",
              "      box-shadow: 0px 1px 3px 1px rgba(0, 0, 0, 0.15);\n",
              "      filter: drop-shadow(0px 1px 2px rgba(0, 0, 0, 0.3));\n",
              "      fill: #FFFFFF;\n",
              "    }\n",
              "  </style>\n",
              "\n",
              "    <script>\n",
              "      const buttonEl =\n",
              "        document.querySelector('#df-b93b397d-ddbc-411d-9a34-bf532fead33a button.colab-df-convert');\n",
              "      buttonEl.style.display =\n",
              "        google.colab.kernel.accessAllowed ? 'block' : 'none';\n",
              "\n",
              "      async function convertToInteractive(key) {\n",
              "        const element = document.querySelector('#df-b93b397d-ddbc-411d-9a34-bf532fead33a');\n",
              "        const dataTable =\n",
              "          await google.colab.kernel.invokeFunction('convertToInteractive',\n",
              "                                                    [key], {});\n",
              "        if (!dataTable) return;\n",
              "\n",
              "        const docLinkHtml = 'Like what you see? Visit the ' +\n",
              "          '<a target=\"_blank\" href=https://colab.research.google.com/notebooks/data_table.ipynb>data table notebook</a>'\n",
              "          + ' to learn more about interactive tables.';\n",
              "        element.innerHTML = '';\n",
              "        dataTable['output_type'] = 'display_data';\n",
              "        await google.colab.output.renderOutput(dataTable, element);\n",
              "        const docLink = document.createElement('div');\n",
              "        docLink.innerHTML = docLinkHtml;\n",
              "        element.appendChild(docLink);\n",
              "      }\n",
              "    </script>\n",
              "  </div>\n",
              "\n",
              "\n",
              "<div id=\"df-177c56be-8e1f-413b-914b-3ecb4bab174f\">\n",
              "  <button class=\"colab-df-quickchart\" onclick=\"quickchart('df-177c56be-8e1f-413b-914b-3ecb4bab174f')\"\n",
              "            title=\"Suggest charts\"\n",
              "            style=\"display:none;\">\n",
              "\n",
              "<svg xmlns=\"http://www.w3.org/2000/svg\" height=\"24px\"viewBox=\"0 0 24 24\"\n",
              "     width=\"24px\">\n",
              "    <g>\n",
              "        <path d=\"M19 3H5c-1.1 0-2 .9-2 2v14c0 1.1.9 2 2 2h14c1.1 0 2-.9 2-2V5c0-1.1-.9-2-2-2zM9 17H7v-7h2v7zm4 0h-2V7h2v10zm4 0h-2v-4h2v4z\"/>\n",
              "    </g>\n",
              "</svg>\n",
              "  </button>\n",
              "\n",
              "<style>\n",
              "  .colab-df-quickchart {\n",
              "      --bg-color: #E8F0FE;\n",
              "      --fill-color: #1967D2;\n",
              "      --hover-bg-color: #E2EBFA;\n",
              "      --hover-fill-color: #174EA6;\n",
              "      --disabled-fill-color: #AAA;\n",
              "      --disabled-bg-color: #DDD;\n",
              "  }\n",
              "\n",
              "  [theme=dark] .colab-df-quickchart {\n",
              "      --bg-color: #3B4455;\n",
              "      --fill-color: #D2E3FC;\n",
              "      --hover-bg-color: #434B5C;\n",
              "      --hover-fill-color: #FFFFFF;\n",
              "      --disabled-bg-color: #3B4455;\n",
              "      --disabled-fill-color: #666;\n",
              "  }\n",
              "\n",
              "  .colab-df-quickchart {\n",
              "    background-color: var(--bg-color);\n",
              "    border: none;\n",
              "    border-radius: 50%;\n",
              "    cursor: pointer;\n",
              "    display: none;\n",
              "    fill: var(--fill-color);\n",
              "    height: 32px;\n",
              "    padding: 0;\n",
              "    width: 32px;\n",
              "  }\n",
              "\n",
              "  .colab-df-quickchart:hover {\n",
              "    background-color: var(--hover-bg-color);\n",
              "    box-shadow: 0 1px 2px rgba(60, 64, 67, 0.3), 0 1px 3px 1px rgba(60, 64, 67, 0.15);\n",
              "    fill: var(--button-hover-fill-color);\n",
              "  }\n",
              "\n",
              "  .colab-df-quickchart-complete:disabled,\n",
              "  .colab-df-quickchart-complete:disabled:hover {\n",
              "    background-color: var(--disabled-bg-color);\n",
              "    fill: var(--disabled-fill-color);\n",
              "    box-shadow: none;\n",
              "  }\n",
              "\n",
              "  .colab-df-spinner {\n",
              "    border: 2px solid var(--fill-color);\n",
              "    border-color: transparent;\n",
              "    border-bottom-color: var(--fill-color);\n",
              "    animation:\n",
              "      spin 1s steps(1) infinite;\n",
              "  }\n",
              "\n",
              "  @keyframes spin {\n",
              "    0% {\n",
              "      border-color: transparent;\n",
              "      border-bottom-color: var(--fill-color);\n",
              "      border-left-color: var(--fill-color);\n",
              "    }\n",
              "    20% {\n",
              "      border-color: transparent;\n",
              "      border-left-color: var(--fill-color);\n",
              "      border-top-color: var(--fill-color);\n",
              "    }\n",
              "    30% {\n",
              "      border-color: transparent;\n",
              "      border-left-color: var(--fill-color);\n",
              "      border-top-color: var(--fill-color);\n",
              "      border-right-color: var(--fill-color);\n",
              "    }\n",
              "    40% {\n",
              "      border-color: transparent;\n",
              "      border-right-color: var(--fill-color);\n",
              "      border-top-color: var(--fill-color);\n",
              "    }\n",
              "    60% {\n",
              "      border-color: transparent;\n",
              "      border-right-color: var(--fill-color);\n",
              "    }\n",
              "    80% {\n",
              "      border-color: transparent;\n",
              "      border-right-color: var(--fill-color);\n",
              "      border-bottom-color: var(--fill-color);\n",
              "    }\n",
              "    90% {\n",
              "      border-color: transparent;\n",
              "      border-bottom-color: var(--fill-color);\n",
              "    }\n",
              "  }\n",
              "</style>\n",
              "\n",
              "  <script>\n",
              "    async function quickchart(key) {\n",
              "      const quickchartButtonEl =\n",
              "        document.querySelector('#' + key + ' button');\n",
              "      quickchartButtonEl.disabled = true;  // To prevent multiple clicks.\n",
              "      quickchartButtonEl.classList.add('colab-df-spinner');\n",
              "      try {\n",
              "        const charts = await google.colab.kernel.invokeFunction(\n",
              "            'suggestCharts', [key], {});\n",
              "      } catch (error) {\n",
              "        console.error('Error during call to suggestCharts:', error);\n",
              "      }\n",
              "      quickchartButtonEl.classList.remove('colab-df-spinner');\n",
              "      quickchartButtonEl.classList.add('colab-df-quickchart-complete');\n",
              "    }\n",
              "    (() => {\n",
              "      let quickchartButtonEl =\n",
              "        document.querySelector('#df-177c56be-8e1f-413b-914b-3ecb4bab174f button');\n",
              "      quickchartButtonEl.style.display =\n",
              "        google.colab.kernel.accessAllowed ? 'block' : 'none';\n",
              "    })();\n",
              "  </script>\n",
              "</div>\n",
              "    </div>\n",
              "  </div>\n"
            ]
          },
          "metadata": {},
          "execution_count": 30
        }
      ]
    },
    {
      "cell_type": "markdown",
      "source": [
        "In order to evaluate our model, we use the **evalutate** model, with the new dataset as a parameter"
      ],
      "metadata": {
        "id": "CbwBzIgto_bQ"
      },
      "id": "CbwBzIgto_bQ"
    },
    {
      "cell_type": "code",
      "source": [
        "test_evaluate = model3.evaluate(make_dataset(testData))"
      ],
      "metadata": {
        "colab": {
          "base_uri": "https://localhost:8080/"
        },
        "id": "w6ndqLWQbQyK",
        "outputId": "2616b3f7-cad9-4392-e247-3b99291de7f4"
      },
      "id": "w6ndqLWQbQyK",
      "execution_count": 31,
      "outputs": [
        {
          "output_type": "stream",
          "name": "stdout",
          "text": [
            "225/225 [==============================] - 2s 9ms/step - loss: 0.0193 - accuracy: 0.9942\n"
          ]
        }
      ]
    },
    {
      "cell_type": "markdown",
      "source": [
        "Per our evaluation, this model will predict a fake article 97% of the time"
      ],
      "metadata": {
        "id": "Vf0mpxE2koiT"
      },
      "id": "Vf0mpxE2koiT"
    },
    {
      "cell_type": "markdown",
      "source": [
        "# Visualize Embeddings"
      ],
      "metadata": {
        "id": "aC87XV-YpK0Z"
      },
      "id": "aC87XV-YpK0Z"
    },
    {
      "cell_type": "markdown",
      "source": [
        "Lets visualize the individual words and see how they contributed to an article's score."
      ],
      "metadata": {
        "id": "5L1_8_zBpOib"
      },
      "id": "5L1_8_zBpOib"
    },
    {
      "cell_type": "code",
      "source": [
        "weights = model2.get_layer('embedding2').get_weights()[0] # get the weights from the embedding layer\n",
        "vocab = text_vectorize_layer.get_vocabulary()                # get the vocabulary from our data prep for later\n",
        "\n",
        "from sklearn.decomposition import PCA\n",
        "pca = PCA(n_components=2)\n",
        "weights = pca.fit_transform(weights)\n",
        "\n",
        "embedding_df = pd.DataFrame({\n",
        "    'word' : vocab,\n",
        "    'x0'   : weights[:,0],\n",
        "    'x1'   : weights[:,1]\n",
        "})"
      ],
      "metadata": {
        "id": "4eX2PGTga2Iw"
      },
      "id": "4eX2PGTga2Iw",
      "execution_count": 32,
      "outputs": []
    },
    {
      "cell_type": "code",
      "source": [
        "import plotly.express as px\n",
        "import numpy as np\n",
        "\n",
        "import plotly.io as pio\n",
        "pio.renderers.default=\"iframe\"\n",
        "\n",
        "\n",
        "fig = px.scatter(embedding_df,\n",
        "                 x = \"x0\",\n",
        "                 y = \"x1\",\n",
        "                 size = list(np.ones(len(embedding_df))),\n",
        "                 size_max = 5,\n",
        "                 hover_name = \"word\")\n",
        "\n",
        "fig.show()"
      ],
      "metadata": {
        "colab": {
          "base_uri": "https://localhost:8080/",
          "height": 566
        },
        "id": "MkP7ai-pYqgU",
        "outputId": "74d5b1c2-4109-4b67-ebc1-03eade128026"
      },
      "id": "MkP7ai-pYqgU",
      "execution_count": 33,
      "outputs": [
        {
          "output_type": "display_data",
          "data": {
            "text/html": [
              "<iframe\n",
              "    scrolling=\"no\"\n",
              "    width=\"100%\"\n",
              "    height=\"545px\"\n",
              "    src=\"iframe_figures/figure_33.html\"\n",
              "    frameborder=\"0\"\n",
              "    allowfullscreen\n",
              "></iframe>\n"
            ]
          },
          "metadata": {}
        }
      ]
    },
    {
      "cell_type": "markdown",
      "source": [
        "In the graph, word \"GOP\" is the furthest to the left, and \"trumps\" is furthest to the right. These are interesting, as seemingly related words are the oposite sided outliers. Addionally, the words \"professor\" and \"teacher\" are at around (0,0), meaning they are rather neutral words, despite having a generally more qualified or trustworthy opinion. Perhaps less surprising, words like \"fox\", \"radical\", or \"leftists\" seem to be rather untrustworthy words, as they appear more frequently in fake articles."
      ],
      "metadata": {
        "id": "gebpkjt0iEI4"
      },
      "id": "gebpkjt0iEI4"
    },
    {
      "cell_type": "code",
      "source": [],
      "metadata": {
        "id": "lZMtnutfjS_u"
      },
      "id": "lZMtnutfjS_u",
      "execution_count": 33,
      "outputs": []
    }
  ],
  "metadata": {
    "kernelspec": {
      "display_name": "Python [conda env:PIC16B-3] *",
      "language": "python",
      "name": "conda-env-PIC16B-3-py"
    },
    "language_info": {
      "codemirror_mode": {
        "name": "ipython",
        "version": 3
      },
      "file_extension": ".py",
      "mimetype": "text/x-python",
      "name": "python",
      "nbconvert_exporter": "python",
      "pygments_lexer": "ipython3",
      "version": "3.11.6"
    },
    "colab": {
      "provenance": [],
      "gpuType": "T4",
      "toc_visible": true
    },
    "accelerator": "GPU"
  },
  "nbformat": 4,
  "nbformat_minor": 5
}